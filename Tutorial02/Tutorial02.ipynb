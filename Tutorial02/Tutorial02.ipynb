{
 "cells": [
  {
   "cell_type": "markdown",
   "metadata": {},
   "source": [
    "Tutorial for Medical Image Processing using Python (SimpleITK and Scikit-Image)\n",
    "==============="
   ]
  },
  {
   "cell_type": "markdown",
   "metadata": {},
   "source": [
    "------------------------------------"
   ]
  },
  {
   "cell_type": "markdown",
   "metadata": {},
   "source": [
    "### Load Modules"
   ]
  },
  {
   "cell_type": "code",
   "execution_count": null,
   "metadata": {},
   "outputs": [],
   "source": [
    "%matplotlib inline\n",
    "import SimpleITK as sitk\n",
    "import numpy as np\n",
    "import matplotlib.pyplot as plt"
   ]
  },
  {
   "cell_type": "code",
   "execution_count": null,
   "metadata": {},
   "outputs": [],
   "source": [
    "# default params for drawing gray scaled image\n",
    "plt.rcParams['image.cmap'] = 'gray'"
   ]
  },
  {
   "cell_type": "code",
   "execution_count": null,
   "metadata": {},
   "outputs": [],
   "source": [
    "imag_directory = 'dcm'\n",
    "series_IDs = sitk.ImageSeriesReader.GetGDCMSeriesIDs(imag_directory)\n",
    "if not series_IDs:\n",
    "    print(\"ERROR: given directory \\\"\" + imag_directory + \"\\\" does not contain a DICOM series.\")\n",
    "\n",
    "print(series_IDs)"
   ]
  },
  {
   "cell_type": "markdown",
   "metadata": {},
   "source": [
    "---------------------------------\n",
    "### Get File Name List form series id"
   ]
  },
  {
   "cell_type": "code",
   "execution_count": null,
   "metadata": {},
   "outputs": [],
   "source": [
    "series_file_names = sitk.ImageSeriesReader.GetGDCMSeriesFileNames(imag_directory, series_IDs[0])"
   ]
  },
  {
   "cell_type": "code",
   "execution_count": null,
   "metadata": {},
   "outputs": [],
   "source": [
    "# print(series_file_names)"
   ]
  },
  {
   "cell_type": "markdown",
   "metadata": {},
   "source": [
    "---------------------------------\n",
    "### Read Files"
   ]
  },
  {
   "cell_type": "code",
   "execution_count": null,
   "metadata": {},
   "outputs": [],
   "source": [
    "# print(series_file_names)\n",
    "series_reader = sitk.ImageSeriesReader() # creat class instance \n",
    "series_reader.SetFileNames(series_file_names) # set file name\n",
    "series_reader.MetaDataDictionaryArrayUpdateOn()\n",
    "series_reader.LoadPrivateTagsOn()"
   ]
  },
  {
   "cell_type": "markdown",
   "metadata": {},
   "source": [
    "---------------------------------\n",
    "### Execute"
   ]
  },
  {
   "cell_type": "code",
   "execution_count": null,
   "metadata": {},
   "outputs": [],
   "source": [
    "images = series_reader.Execute()"
   ]
  },
  {
   "cell_type": "markdown",
   "metadata": {},
   "source": [
    "---------------------------------\n",
    "### convert numpy array "
   ]
  },
  {
   "cell_type": "code",
   "execution_count": null,
   "metadata": {},
   "outputs": [],
   "source": [
    "mainBuffer = sitk.GetArrayFromImage(images)\n",
    "type(mainBuffer)"
   ]
  },
  {
   "cell_type": "markdown",
   "metadata": {},
   "source": [
    "---------------------------------\n",
    "### useful (default) image parameter"
   ]
  },
  {
   "cell_type": "code",
   "execution_count": null,
   "metadata": {},
   "outputs": [],
   "source": [
    "dim = images.GetSize()\n",
    "org = images.GetOrigin()\n",
    "dh = images.GetSpacing()\n",
    "\n",
    "print(dim, org, dh)"
   ]
  },
  {
   "cell_type": "markdown",
   "metadata": {},
   "source": [
    "---------------------------------\n",
    "### functions for image rendering"
   ]
  },
  {
   "cell_type": "code",
   "execution_count": null,
   "metadata": {},
   "outputs": [],
   "source": [
    "def get_image(images, vpos, aspect, vmin, vmax):\n",
    "    \n",
    "    def current_slice(idx):\n",
    "        fig, ax = plt.subplots(figsize=(6, 6))    \n",
    "        if vpos == 'axial':\n",
    "            ax.imshow(images[idx, :, :], aspect=aspect, vmin=vmin, vmax=vmax)\n",
    "        elif vpos == 'coronal':\n",
    "            ax.imshow(images[:, idx, :], aspect=aspect, origin='lower', vmin=vmin, vmax=vmax)\n",
    "        elif vpos == 'sagittal':\n",
    "            ax.imshow(images[:, :, idx], aspect=aspect, origin='lower', vmin=vmin, vmax=vmax)\n",
    "\n",
    "        ax.set_axis_off()\n",
    "#         print(idx)\n",
    "        plt.show()\n",
    "        \n",
    "    return current_slice\n",
    "\n",
    "def sliceimageview(images, vpos, dh, level=-40, window=400):\n",
    "    from ipywidgets import IntSlider, interact\n",
    "    \n",
    "    if vpos == 'axial':\n",
    "        current_slice = get_image(images, vpos, aspect=dh[1]/dh[0], vmin=level-window/2, vmax=level+window/2)\n",
    "        step_slider = IntSlider(min=0, max=images.shape[0]-1, value=images.shape[0]/2)\n",
    "    elif vpos == 'coronal':\n",
    "        current_slice = get_image(images, vpos, aspect=dh[2]/dh[0], vmin=level-window/2, vmax=level+window/2)\n",
    "        step_slider = IntSlider(min=0, max=images.shape[1]-1, value=images.shape[1]/2)\n",
    "    elif vpos == 'sagittal':\n",
    "        current_slice = get_image(images, vpos, aspect=dh[2]/dh[1], vmin=level-window/2, vmax=level+window/2)\n",
    "        step_slider = IntSlider(min=0, max=images.shape[2]-1, value=images.shape[1]/2)\n",
    "        \n",
    "    interact(current_slice, idx=step_slider)\n",
    "    \n",
    "    "
   ]
  },
  {
   "cell_type": "code",
   "execution_count": null,
   "metadata": {
    "scrolled": false
   },
   "outputs": [],
   "source": [
    "sliceimageview(mainBuffer, vpos='coronal', dh=dh)"
   ]
  },
  {
   "cell_type": "markdown",
   "metadata": {},
   "source": [
    "---------------------------------\n",
    "### DICOM tag dictionary\n",
    "\n",
    "#### DICOM tag는 파일 하나를 읽어서 활용합니다. (DICOM Series 에서는 활용할 수 없음)"
   ]
  },
  {
   "cell_type": "code",
   "execution_count": null,
   "metadata": {},
   "outputs": [],
   "source": [
    "filepath = 'dcm/000000.dcm'\n",
    "image = sitk.ReadImage(filepath)\n",
    "# for key in image.GetMetaDataKeys():\n",
    "#     print('{:7s} - {:s}'.format(key, image.GetMetaData(key)))"
   ]
  },
  {
   "cell_type": "code",
   "execution_count": null,
   "metadata": {},
   "outputs": [],
   "source": [
    "fig, ax = plt.subplots(figsize=(6, 6))    \n",
    "buffer = sitk.GetArrayFromImage(image)\n",
    "\n",
    "# error !! why ??\n",
    "ax.imshow(buffer, vmin=-240, vmax=160)\n",
    "ax.set_axis_off()"
   ]
  },
  {
   "cell_type": "markdown",
   "metadata": {},
   "source": [
    "### Quiz 1. How To Draw Correctly?"
   ]
  },
  {
   "cell_type": "code",
   "execution_count": null,
   "metadata": {},
   "outputs": [],
   "source": [
    "# answer\n",
    "%load https://raw.github.com/jeonkiwan/PythonTutorial/master/Tutorial02/solution.py"
   ]
  },
  {
   "cell_type": "markdown",
   "metadata": {},
   "source": [
    "----------------------------------"
   ]
  },
  {
   "cell_type": "markdown",
   "metadata": {},
   "source": [
    "## Image Denoising\n",
    "\n",
    "\n",
    "\n",
    "### [Non Local Mean Denoising for Texture Preserving](https://scikit-image.org/docs/dev/auto_examples/filters/plot_nonlocal_means.html)"
   ]
  },
  {
   "cell_type": "code",
   "execution_count": null,
   "metadata": {},
   "outputs": [],
   "source": [
    "# Load Module\n",
    "from skimage.restoration import denoise_nl_means, denoise_wavelet, estimate_sigma"
   ]
  },
  {
   "cell_type": "code",
   "execution_count": null,
   "metadata": {},
   "outputs": [],
   "source": [
    "# set data\n",
    "imag = buffer[0, :, :].astype(np.float32)\n",
    "\n",
    "# or\n",
    "# imag = mainBuffer[308, :, :]"
   ]
  },
  {
   "cell_type": "code",
   "execution_count": null,
   "metadata": {},
   "outputs": [],
   "source": [
    "sigma_est = np.mean(estimate_sigma(imag, multichannel=True))\n",
    "\n",
    "print(\"estimated noise standard deviation                 = {}\".format(sigma_est))\n",
    "\n",
    "patch_kw = dict(patch_size=5,      # 5x5 patches\n",
    "                patch_distance=7,  # 13x13 search area\n",
    "                multichannel=False)\n",
    "\n",
    "# slow algorithm\n",
    "denoised_imag = denoise_nl_means(imag, h=1.0*sigma_est, fast_mode=False, **patch_kw)\n",
    "\n",
    "# noise estimation \n",
    "sigma_est = np.mean(estimate_sigma(denoised_imag, multichannel=True))\n",
    "print(\"estimated noise standard deviation after denoising = {}\".format(sigma_est))\n"
   ]
  },
  {
   "cell_type": "markdown",
   "metadata": {},
   "source": [
    "### Draw Results"
   ]
  },
  {
   "cell_type": "code",
   "execution_count": null,
   "metadata": {},
   "outputs": [],
   "source": [
    "fig, axes = plt.subplots(1, 3, figsize=(12, 8))    \n",
    "\n",
    "ax = axes.flatten()\n",
    "\n",
    "ax[0].imshow(imag, vmin=-240, vmax=160)\n",
    "ax[0].set_axis_off()\n",
    "ax[0].set_title('original image')\n",
    "\n",
    "ax[1].imshow(denoised_imag, vmin=-240, vmax=160)\n",
    "ax[1].set_axis_off()\n",
    "ax[1].set_title('denoised image')\n",
    "\n",
    "ax[2].imshow(denoised_imag-imag, vmin=-10, vmax=10)\n",
    "ax[2].set_axis_off()\n",
    "ax[2].set_title('difference image')\n",
    "\n",
    "fig.tight_layout()"
   ]
  },
  {
   "cell_type": "markdown",
   "metadata": {},
   "source": [
    "### [Wavelet Denoising](https://scikit-image.org/docs/dev/api/skimage.restoration.html#skimage.restoration.denoise_wavelet)"
   ]
  },
  {
   "cell_type": "code",
   "execution_count": null,
   "metadata": {},
   "outputs": [],
   "source": [
    "sigma_est = np.mean(estimate_sigma(imag, multichannel=True))\n",
    "\n",
    "print(\"estimated noise standard deviation                 = {}\".format(sigma_est))\n",
    "\n",
    "mn = np.amin(imag)\n",
    "mx = np.amax(imag)\n",
    "\n",
    "# image scaling ...\n",
    "t_imag = (imag-mn)/(mx-mn)\n",
    "\n",
    "# wavelet algorithm\n",
    "t_imag = denoise_wavelet(t_imag)\n",
    "\n",
    "# re-scaling ...\n",
    "denoised_imag = (mx-mn)*t_imag + mn\n",
    "\n",
    "# noise estimation \n",
    "sigma_est = np.mean(estimate_sigma(denoised_imag, multichannel=True))\n",
    "print(\"estimated noise standard deviation after denoising = {}\".format(sigma_est))"
   ]
  },
  {
   "cell_type": "code",
   "execution_count": null,
   "metadata": {},
   "outputs": [],
   "source": [
    "fig, axes = plt.subplots(1, 3, figsize=(12, 8))    \n",
    "\n",
    "ax = axes.flatten()\n",
    "\n",
    "ax[0].imshow(imag, vmin=-240, vmax=160)\n",
    "ax[0].set_axis_off()\n",
    "ax[0].set_title('original image')\n",
    "\n",
    "ax[1].imshow(denoised_imag, vmin=-240, vmax=160)\n",
    "ax[1].set_axis_off()\n",
    "ax[1].set_title('denoised image')\n",
    "\n",
    "ax[2].imshow(denoised_imag-imag, vmin=-10, vmax=10)\n",
    "ax[2].set_axis_off()\n",
    "ax[2].set_title('difference image')\n",
    "\n",
    "fig.tight_layout()"
   ]
  },
  {
   "cell_type": "markdown",
   "metadata": {},
   "source": [
    "------------------------------------------"
   ]
  },
  {
   "cell_type": "markdown",
   "metadata": {},
   "source": [
    "## [Image Segmentation](https://scikit-image.org/docs/dev/api/skimage.segmentation.html)"
   ]
  },
  {
   "cell_type": "markdown",
   "metadata": {},
   "source": [
    "### Whole Lung Segmentation"
   ]
  },
  {
   "cell_type": "code",
   "execution_count": null,
   "metadata": {},
   "outputs": [],
   "source": [
    "imag = mainBuffer[158, :, :].astype(np.float32)"
   ]
  },
  {
   "cell_type": "code",
   "execution_count": null,
   "metadata": {},
   "outputs": [],
   "source": [
    "fig, ax = plt.subplots(figsize=(6, 6)) \n",
    "ax.imshow(imag, vmin=-240, vmax=160)\n",
    "ax.set_axis_off()"
   ]
  },
  {
   "cell_type": "markdown",
   "metadata": {},
   "source": [
    "### Image Scaling (Lung Enhance)"
   ]
  },
  {
   "cell_type": "code",
   "execution_count": null,
   "metadata": {},
   "outputs": [],
   "source": [
    "mx = -300\n",
    "mn = -1100\n",
    "t_imag = (imag-mn)/(mx-mn)\n",
    "t_imag[t_imag > 1.0] = 1.0\n",
    "t_imag[t_imag < 0.0] = 0.0"
   ]
  },
  {
   "cell_type": "code",
   "execution_count": null,
   "metadata": {},
   "outputs": [],
   "source": [
    "fig, ax = plt.subplots(figsize=(6, 6)) \n",
    "ax.imshow(t_imag)\n",
    "ax.set_axis_off()"
   ]
  },
  {
   "cell_type": "markdown",
   "metadata": {},
   "source": [
    "### [Gaussian Mixture (Pixel) Separation](https://scipy-lectures.org/advanced/image_processing/auto_examples/plot_GMM.html)\n",
    "\n",
    "#### Pixel Intensity를 두 개의 Gaussian Distribution으로 Fitting 하여 분리합니다"
   ]
  },
  {
   "cell_type": "code",
   "execution_count": null,
   "metadata": {},
   "outputs": [],
   "source": [
    "#\n",
    "from sklearn import mixture\n",
    "\n",
    "#\n",
    "mixture_buffer = np.zeros((t_imag.flatten().shape[0], 2), dtype=t_imag.dtype)\n",
    "mixture_buffer[:, 0] = t_imag.flatten()\n",
    "\n",
    "gm_segment = np.zeros(shape=t_imag.shape, dtype=t_imag.dtype).flatten()\n",
    "\n",
    "\n",
    "# random process ... something like random forest \n",
    "# because the algorithm result is strongly depened on initial guess\n",
    "\n",
    "numIter = 1\n",
    "for iter in range(numIter):\n",
    "    \n",
    "    # fit !!\n",
    "    dpgmm = mixture.GaussianMixture(n_components=2, covariance_type='full', max_iter=10).fit(mixture_buffer)\n",
    "\n",
    "    # prediction\n",
    "    prob_map = dpgmm.predict_proba(mixture_buffer)\n",
    "\n",
    "    # convert to the distribution\n",
    "    prob_map = np.transpose(np.divide(np.transpose(prob_map), np.sum(prob_map, axis=1)))\n",
    "    prob_map[prob_map < 0.001] = 0.0\n",
    "\n",
    "    if dpgmm.means_[0, 0] < dpgmm.means_[1, 0]:\n",
    "        gm_segment += prob_map[:, 0]\n",
    "    else:\n",
    "        gm_segment += prob_map[:, 1]\n",
    "\n",
    "# revert to the original shape\n",
    "gm_segment = np.divide(gm_segment.reshape(t_imag.shape), numIter)"
   ]
  },
  {
   "cell_type": "code",
   "execution_count": null,
   "metadata": {},
   "outputs": [],
   "source": [
    "fig, ax = plt.subplots(figsize=(6, 6)) \n",
    "ax.imshow(gm_segment)\n",
    "ax.set_axis_off()"
   ]
  },
  {
   "cell_type": "markdown",
   "metadata": {},
   "source": [
    "### [Morphological Process](https://scikit-image.org/docs/dev/api/skimage.morphology.html)"
   ]
  },
  {
   "cell_type": "code",
   "execution_count": null,
   "metadata": {},
   "outputs": [],
   "source": [
    "# call module\n",
    "from skimage.morphology import erosion, dilation, remove_small_holes, disk\n",
    "\n",
    "filled_segment = remove_small_holes(gm_segment.astype(np.bool), area_threshold=128*128)\n",
    "\n",
    "# additional process\n",
    "# filled_segment = remove_small_objects(filled_segment.astype(np.bool))\n",
    "\n",
    "filled_segment = filled_segment.astype(np.float32)"
   ]
  },
  {
   "cell_type": "code",
   "execution_count": null,
   "metadata": {},
   "outputs": [],
   "source": [
    "fig, axes = plt.subplots(1, 3, figsize=(18, 6))    \n",
    "\n",
    "ax = axes.flatten()\n",
    "\n",
    "ax[0].imshow(t_imag)\n",
    "ax[0].set_axis_off()\n",
    "ax[0].set_title('original image')\n",
    "\n",
    "ax[1].imshow(gm_segment)\n",
    "ax[1].set_axis_off()\n",
    "ax[1].set_title('gaussian mixture segmentation')\n",
    "\n",
    "ax[2].imshow(filled_segment)\n",
    "ax[2].set_axis_off()\n",
    "ax[2].set_title('with mophological process')\n",
    "\n",
    "fig.tight_layout()"
   ]
  },
  {
   "cell_type": "markdown",
   "metadata": {},
   "source": [
    "### [Active Contour Segmentation](https://scikit-image.org/docs/dev/auto_examples/segmentation/plot_morphsnakes.html#sphx-glr-auto-examples-segmentation-plot-morphsnakes-py)"
   ]
  },
  {
   "cell_type": "code",
   "execution_count": null,
   "metadata": {},
   "outputs": [],
   "source": [
    "from skimage.segmentation import (morphological_geodesic_active_contour, \n",
    "                                  inverse_gaussian_gradient,\n",
    "                                  circle_level_set)"
   ]
  },
  {
   "cell_type": "code",
   "execution_count": null,
   "metadata": {},
   "outputs": [],
   "source": [
    "init_lvs = circle_level_set(filled_segment.shape, center=(256, 144), radius=4)\\\n",
    "         + circle_level_set(filled_segment.shape, center=(256, 368), radius=4)"
   ]
  },
  {
   "cell_type": "code",
   "execution_count": null,
   "metadata": {},
   "outputs": [],
   "source": [
    "fig, ax = plt.subplots(figsize=(6, 6)) \n",
    "ax.imshow(filled_segment)\n",
    "ax.contour(init_lvs, [0.5], colors='r')\n",
    "ax.set_axis_off()"
   ]
  },
  {
   "cell_type": "code",
   "execution_count": null,
   "metadata": {},
   "outputs": [],
   "source": [
    "grad_imag = inverse_gaussian_gradient(filled_segment)"
   ]
  },
  {
   "cell_type": "code",
   "execution_count": null,
   "metadata": {},
   "outputs": [],
   "source": [
    "def store_evolution_in(lst):\n",
    "    \"\"\"Returns a callback function to store the evolution of the level sets in\n",
    "    the given list.\n",
    "    \"\"\"\n",
    "    def _store(x):\n",
    "        lst.append(np.copy(x))\n",
    "    return _store"
   ]
  },
  {
   "cell_type": "code",
   "execution_count": null,
   "metadata": {},
   "outputs": [],
   "source": [
    "evolution = []\n",
    "callback = store_evolution_in(evolution)\n",
    "final_lvs = morphological_geodesic_active_contour(grad_imag, 100, init_lvs, \n",
    "                                                  balloon=2.0, smoothing=1,\n",
    "                                                  iter_callback=callback)"
   ]
  },
  {
   "cell_type": "code",
   "execution_count": null,
   "metadata": {},
   "outputs": [],
   "source": [
    "fig, ax = plt.subplots(figsize=(6, 6)) \n",
    "ax.imshow(filled_segment)\n",
    "\n",
    "contour=ax.contour(init_lvs, [0.5], colors=[plt.cm.tab10(0)])\n",
    "contour.collections[0].set_label(\"Initial Levelset\")\n",
    "\n",
    "contour=ax.contour(evolution[10], [0.5], colors=[plt.cm.tab10(1)])\n",
    "contour.collections[0].set_label(\"After 10 Iteration\")\n",
    "\n",
    "contour=ax.contour(evolution[50], [0.5], colors=[plt.cm.tab10(2)])\n",
    "contour.collections[0].set_label(\"After 50 Iteration\")\n",
    "\n",
    "contour=ax.contour(final_lvs, [0.5], colors='r')\n",
    "contour.collections[0].set_label(\"Final Results\")\n",
    "\n",
    "ax.legend(loc=\"upper right\")\n",
    "ax.set_axis_off()"
   ]
  },
  {
   "cell_type": "markdown",
   "metadata": {},
   "source": [
    "### If we apply the algorithm to original image ?"
   ]
  },
  {
   "cell_type": "code",
   "execution_count": null,
   "metadata": {},
   "outputs": [],
   "source": [
    "grad_imag = inverse_gaussian_gradient(t_imag)\n",
    "evolution = []\n",
    "callback = store_evolution_in(evolution)\n",
    "final_lvs = morphological_geodesic_active_contour(grad_imag, 100, init_lvs, \n",
    "                                                  balloon=1.0, smoothing=1,\n",
    "                                                  iter_callback=callback)"
   ]
  },
  {
   "cell_type": "code",
   "execution_count": null,
   "metadata": {},
   "outputs": [],
   "source": [
    "fig, ax = plt.subplots(figsize=(6, 6)) \n",
    "ax.imshow(t_imag)\n",
    "\n",
    "contour=ax.contour(init_lvs, [0.5], colors=[plt.cm.tab10(0)])\n",
    "contour.collections[0].set_label(\"Initial Levelset\")\n",
    "\n",
    "contour=ax.contour(evolution[10], [0.5], colors=[plt.cm.tab10(1)])\n",
    "contour.collections[0].set_label(\"After 10 Iteration\")\n",
    "\n",
    "contour=ax.contour(evolution[50], [0.5], colors=[plt.cm.tab10(2)])\n",
    "contour.collections[0].set_label(\"After 50 Iteration\")\n",
    "\n",
    "contour=ax.contour(final_lvs, [0.5], colors='r')\n",
    "contour.collections[0].set_label(\"Final Results\")\n",
    "\n",
    "ax.legend(loc=\"upper right\")\n",
    "ax.set_axis_off()"
   ]
  }
 ],
 "metadata": {
  "kernelspec": {
   "display_name": "Python 3",
   "language": "python",
   "name": "python3"
  },
  "language_info": {
   "codemirror_mode": {
    "name": "ipython",
    "version": 3
   },
   "file_extension": ".py",
   "mimetype": "text/x-python",
   "name": "python",
   "nbconvert_exporter": "python",
   "pygments_lexer": "ipython3",
   "version": "3.6.8"
  }
 },
 "nbformat": 4,
 "nbformat_minor": 2
}
