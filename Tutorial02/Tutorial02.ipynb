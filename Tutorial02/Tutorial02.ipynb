{
 "cells": [
  {
   "cell_type": "code",
   "execution_count": null,
   "metadata": {},
   "outputs": [],
   "source": [
    "%matplotlib inline\n",
    "import matplotlib.pyplot as plt\n",
    "import numpy as np\n",
    "\n",
    "plt.rcParams['image.cmap'] = 'gray'\n",
    "\n",
    "import SimpleITK as sitk"
   ]
  },
  {
   "cell_type": "code",
   "execution_count": null,
   "metadata": {},
   "outputs": [],
   "source": [
    "imag_directory = 'dcm'\n",
    "series_IDs = sitk.ImageSeriesReader.GetGDCMSeriesIDs(imag_directory)\n",
    "# if not series_IDs:\n",
    "#     print(\"ERROR: given directory \\\"\" + data_directory + \"\\\" does not contain a DICOM series.\")\n",
    "#     sys.exit(1)\n",
    "#\n",
    "print(series_IDs)"
   ]
  },
  {
   "cell_type": "code",
   "execution_count": null,
   "metadata": {},
   "outputs": [],
   "source": [
    "series_file_names = sitk.ImageSeriesReader.GetGDCMSeriesFileNames(imag_directory, series_IDs[0])\n",
    "# print(series_file_names)\n",
    "series_reader = sitk.ImageSeriesReader()\n",
    "series_reader.SetFileNames(series_file_names)\n",
    "\n",
    "# Configure the reader to load all of the DICOM tags (public+private):\n",
    "# By default tags are not loaded (saves time).\n",
    "# By default if tags are loaded, the private tags are not loaded.\n",
    "# We explicitly configure the reader to load tags, including the\n",
    "# private ones.\n",
    "\n",
    "series_reader.MetaDataDictionaryArrayUpdateOn()\n",
    "series_reader.LoadPrivateTagsOn()\n",
    "images = series_reader.Execute()\n",
    "\n",
    "mainBuffer = sitk.GetArrayFromImage(images)\n"
   ]
  },
  {
   "cell_type": "code",
   "execution_count": null,
   "metadata": {},
   "outputs": [],
   "source": []
  },
  {
   "cell_type": "code",
   "execution_count": null,
   "metadata": {},
   "outputs": [],
   "source": [
    "def get_image(images, vmin, vmax):\n",
    "    \n",
    "    def current_slice(idx):\n",
    "        fig, ax = plt.subplots(figsize=(6, 6))    \n",
    "        ax.imshow(images[idx, :, :], vmin=vmin, vmax=vmax)\n",
    "        ax.set_axis_off()\n",
    "#         print(idx)\n",
    "        plt.show()\n",
    "        \n",
    "    return current_slice\n",
    "\n",
    "def sliceimageview(images, vmin=-500, vmax=500):\n",
    "    from ipywidgets import IntSlider, interact\n",
    "    current_slice = get_image(images, vmin, vmax)\n",
    "    step_slider = IntSlider(min=0, max=images.shape[0]-1, value=images.shape[0]/2)\n",
    "    interact(current_slice, idx=step_slider)\n",
    "    \n",
    "    "
   ]
  },
  {
   "cell_type": "code",
   "execution_count": null,
   "metadata": {},
   "outputs": [],
   "source": [
    "sliceimageview(mainBuffer)"
   ]
  },
  {
   "cell_type": "code",
   "execution_count": null,
   "metadata": {},
   "outputs": [],
   "source": []
  }
 ],
 "metadata": {
  "kernelspec": {
   "display_name": "Python 3",
   "language": "python",
   "name": "python3"
  },
  "language_info": {
   "codemirror_mode": {
    "name": "ipython",
    "version": 3
   },
   "file_extension": ".py",
   "mimetype": "text/x-python",
   "name": "python",
   "nbconvert_exporter": "python",
   "pygments_lexer": "ipython3",
   "version": "3.6.8"
  }
 },
 "nbformat": 4,
 "nbformat_minor": 2
}
