{
 "cells": [
  {
   "cell_type": "markdown",
   "metadata": {},
   "source": [
    "Tutorial for Machine Learning using Python (Pandas and Scikit-Learn)\n",
    "===================================================================="
   ]
  },
  {
   "cell_type": "markdown",
   "metadata": {},
   "source": [
    "### [파이썬](https://ko.wikipedia.org/wiki/%ED%8C%8C%EC%9D%B4%EC%8D%AC) (파이선? 파이쏜?)\n",
    "\n",
    "[파이썬](https://www.python.org/) (Python)은 1991년 프로그래머인 [귀도 반 로섬(Guido van Rossum)](https://www.google.com/search?client=firefox-b-d&q=guido+van+rossum)이 발표한 [고급 프로그래밍 언어](https://ko.wikipedia.org/wiki/%EA%B3%A0%EA%B8%89_%ED%94%84%EB%A1%9C%EA%B7%B8%EB%9E%98%EB%B0%8D_%EC%96%B8%EC%96%B4)로 플랫폼 독립적이며 인터프리터식, 객체지향적, [동적 타이핑(dynamically typed](https://stackoverflow.com/questions/1517582/what-is-the-difference-between-statically-typed-and-dynamically-typed-languages)) 대화형 언어이다. 파이썬이라는 이름은 귀도가 좋아하는 코미디 [<Monty Python's Flying Circus>](https://www.google.com/search?client=firefox-b-d&q=Monty+Python%27s+Flying+Circus)에서 따온 것이다.\n",
    "\n",
    "[Hey Guido~ !](https://www.google.com/search?q=guido+cars+movie&client=firefox-b-d&source=lnms&tbm=isch&sa=X&ved=0ahUKEwj24_OGv-_hAhUDUrwKHWnLCVMQ_AUIDigB&biw=1527&bih=1103)\n",
    "\n",
    "\n",
    "------------------------------------------------------------------------------------------------------------------------------------"
   ]
  },
  {
   "cell_type": "markdown",
   "metadata": {},
   "source": [
    "## Library Import \n",
    "\n",
    "#### 파이선 사용을 위해서는 사용할 라이브러리를 불러오는 것을 먼저 실행해야 합니다. \n",
    "  * numpy \n",
    "    + object for matrix, verctor and its operations \n",
    "  * pandas\n",
    "    + data manipulation, especially, csv (excel ...)\n",
    "  * matplotlib\n",
    "    + visualization (2D plot)\n",
    "  * scikit-learn\n",
    "    + main algorithms for machine learning "
   ]
  },
  {
   "cell_type": "code",
   "execution_count": 1,
   "metadata": {},
   "outputs": [],
   "source": [
    "%matplotlib inline\n",
    "\n",
    "import numpy as np\n",
    "import pandas as pd\n",
    "import matplotlib.pyplot as plt"
   ]
  },
  {
   "cell_type": "code",
   "execution_count": 2,
   "metadata": {},
   "outputs": [],
   "source": [
    "# 이것도 한 번 해보세요\n",
    "# import this"
   ]
  },
  {
   "cell_type": "markdown",
   "metadata": {},
   "source": [
    "-----------------------------------------------------------------------------------------------\n",
    "\n",
    "## Reading Data\n",
    "\n",
    "#### 오늘 실습할 데이터를 땡겨(?)옵니다. (google cloud computing 환경을 실습하고 있기 때문에 파일을 어디서엔가 가져와야 합니다.) "
   ]
  },
  {
   "cell_type": "code",
   "execution_count": 3,
   "metadata": {},
   "outputs": [],
   "source": [
    "# !wget https://raw.github.com/jeonkiwan/PythonTutorial/master/Tutorial01/wdbc.csv -O wdbc.csv"
   ]
  },
  {
   "cell_type": "markdown",
   "metadata": {},
   "source": [
    "- - -\n",
    "\n",
    "### Data Description\n",
    "\n",
    "Title: Wisconsin Diagnostic Breast Cancer (WDBC)\n",
    "\n",
    "\n",
    "* Number of instances: 569 \n",
    "\n",
    "* Number of attributes: 32 (ID, diagnosis, 30 real-valued input features)\n",
    "\n",
    "* Attribute information\n",
    "\n",
    "    + ID number\n",
    "    + __Diagnosis (M = malignant, B = benign)__\n",
    "\n",
    "\n",
    "* Ten real-valued features are computed for each cell nucleus:\n",
    "\n",
    "    + radius (mean of distances from center to points on the perimeter)\n",
    "    + texture (standard deviation of gray-scale values)\n",
    "    + perimeter\n",
    "    + area\n",
    "    + smoothness (local variation in radius lengths)\n",
    "    + compactness (perimeter^2 / area - 1.0)\n",
    "    + concavity (severity of concave portions of the contour)\n",
    "    + concave points (number of concave portions of the contour)\n",
    "    + symmetry \n",
    "    + fractal dimension (\"coastline approximation\" - 1)\n",
    "\n",
    "\n",
    "* The __mean__, __standard error__, and __\"worst\" or largest__ (mean of the three largest values) of these features were computed for each image, resulting in 30 features.  For instance, field 3 is Mean Radius, field 13 is Radius SE, field 23 is Worst Radius.\n",
    "\n",
    "* All feature values are recoded with four significant digits.\n",
    "\n",
    "* Missing attribute values: none\n",
    "\n",
    "* __Class distribution: 357 benign, 212 malignant__\n",
    "\n",
    "--------------------------------------------"
   ]
  },
  {
   "cell_type": "markdown",
   "metadata": {},
   "source": [
    "## Pandas\n",
    "\n",
    "#### 파일을 pandas library로 불러서, 컴퓨터에서 쓸 수 있는 [데이터프레임(DataFrame)](https://pandas.pydata.org/pandas-docs/stable/reference/api/pandas.DataFrame.html)으로 만듭니다. (그렇다고 합니다. :))"
   ]
  },
  {
   "cell_type": "code",
   "execution_count": 4,
   "metadata": {},
   "outputs": [
    {
     "name": "stdout",
     "output_type": "stream",
     "text": [
      "569\n"
     ]
    },
    {
     "data": {
      "text/html": [
       "<div>\n",
       "<style scoped>\n",
       "    .dataframe tbody tr th:only-of-type {\n",
       "        vertical-align: middle;\n",
       "    }\n",
       "\n",
       "    .dataframe tbody tr th {\n",
       "        vertical-align: top;\n",
       "    }\n",
       "\n",
       "    .dataframe thead th {\n",
       "        text-align: right;\n",
       "    }\n",
       "</style>\n",
       "<table border=\"1\" class=\"dataframe\">\n",
       "  <thead>\n",
       "    <tr style=\"text-align: right;\">\n",
       "      <th></th>\n",
       "      <th>id</th>\n",
       "      <th>diagnosis</th>\n",
       "      <th>radius_m</th>\n",
       "      <th>radius_s</th>\n",
       "      <th>radius_w</th>\n",
       "      <th>texture_m</th>\n",
       "      <th>texture_s</th>\n",
       "      <th>texture_w</th>\n",
       "      <th>perimeter_m</th>\n",
       "      <th>perimeter_s</th>\n",
       "      <th>...</th>\n",
       "      <th>concavity_w</th>\n",
       "      <th>concave points_m</th>\n",
       "      <th>concave points_s</th>\n",
       "      <th>concave points_w</th>\n",
       "      <th>symmetry_m</th>\n",
       "      <th>symmetry_s</th>\n",
       "      <th>symmetry_w</th>\n",
       "      <th>fractal dimension_m</th>\n",
       "      <th>fractal dimension_s</th>\n",
       "      <th>fractal dimension_w</th>\n",
       "    </tr>\n",
       "  </thead>\n",
       "  <tbody>\n",
       "    <tr>\n",
       "      <th>0</th>\n",
       "      <td>842302</td>\n",
       "      <td>M</td>\n",
       "      <td>17.99</td>\n",
       "      <td>10.38</td>\n",
       "      <td>122.80</td>\n",
       "      <td>1001.0</td>\n",
       "      <td>0.11840</td>\n",
       "      <td>0.27760</td>\n",
       "      <td>0.3001</td>\n",
       "      <td>0.14710</td>\n",
       "      <td>...</td>\n",
       "      <td>25.38</td>\n",
       "      <td>17.33</td>\n",
       "      <td>184.60</td>\n",
       "      <td>2019.0</td>\n",
       "      <td>0.1622</td>\n",
       "      <td>0.6656</td>\n",
       "      <td>0.7119</td>\n",
       "      <td>0.2654</td>\n",
       "      <td>0.4601</td>\n",
       "      <td>0.11890</td>\n",
       "    </tr>\n",
       "    <tr>\n",
       "      <th>1</th>\n",
       "      <td>842517</td>\n",
       "      <td>M</td>\n",
       "      <td>20.57</td>\n",
       "      <td>17.77</td>\n",
       "      <td>132.90</td>\n",
       "      <td>1326.0</td>\n",
       "      <td>0.08474</td>\n",
       "      <td>0.07864</td>\n",
       "      <td>0.0869</td>\n",
       "      <td>0.07017</td>\n",
       "      <td>...</td>\n",
       "      <td>24.99</td>\n",
       "      <td>23.41</td>\n",
       "      <td>158.80</td>\n",
       "      <td>1956.0</td>\n",
       "      <td>0.1238</td>\n",
       "      <td>0.1866</td>\n",
       "      <td>0.2416</td>\n",
       "      <td>0.1860</td>\n",
       "      <td>0.2750</td>\n",
       "      <td>0.08902</td>\n",
       "    </tr>\n",
       "    <tr>\n",
       "      <th>2</th>\n",
       "      <td>84300903</td>\n",
       "      <td>M</td>\n",
       "      <td>19.69</td>\n",
       "      <td>21.25</td>\n",
       "      <td>130.00</td>\n",
       "      <td>1203.0</td>\n",
       "      <td>0.10960</td>\n",
       "      <td>0.15990</td>\n",
       "      <td>0.1974</td>\n",
       "      <td>0.12790</td>\n",
       "      <td>...</td>\n",
       "      <td>23.57</td>\n",
       "      <td>25.53</td>\n",
       "      <td>152.50</td>\n",
       "      <td>1709.0</td>\n",
       "      <td>0.1444</td>\n",
       "      <td>0.4245</td>\n",
       "      <td>0.4504</td>\n",
       "      <td>0.2430</td>\n",
       "      <td>0.3613</td>\n",
       "      <td>0.08758</td>\n",
       "    </tr>\n",
       "    <tr>\n",
       "      <th>3</th>\n",
       "      <td>84348301</td>\n",
       "      <td>M</td>\n",
       "      <td>11.42</td>\n",
       "      <td>20.38</td>\n",
       "      <td>77.58</td>\n",
       "      <td>386.1</td>\n",
       "      <td>0.14250</td>\n",
       "      <td>0.28390</td>\n",
       "      <td>0.2414</td>\n",
       "      <td>0.10520</td>\n",
       "      <td>...</td>\n",
       "      <td>14.91</td>\n",
       "      <td>26.50</td>\n",
       "      <td>98.87</td>\n",
       "      <td>567.7</td>\n",
       "      <td>0.2098</td>\n",
       "      <td>0.8663</td>\n",
       "      <td>0.6869</td>\n",
       "      <td>0.2575</td>\n",
       "      <td>0.6638</td>\n",
       "      <td>0.17300</td>\n",
       "    </tr>\n",
       "    <tr>\n",
       "      <th>4</th>\n",
       "      <td>84358402</td>\n",
       "      <td>M</td>\n",
       "      <td>20.29</td>\n",
       "      <td>14.34</td>\n",
       "      <td>135.10</td>\n",
       "      <td>1297.0</td>\n",
       "      <td>0.10030</td>\n",
       "      <td>0.13280</td>\n",
       "      <td>0.1980</td>\n",
       "      <td>0.10430</td>\n",
       "      <td>...</td>\n",
       "      <td>22.54</td>\n",
       "      <td>16.67</td>\n",
       "      <td>152.20</td>\n",
       "      <td>1575.0</td>\n",
       "      <td>0.1374</td>\n",
       "      <td>0.2050</td>\n",
       "      <td>0.4000</td>\n",
       "      <td>0.1625</td>\n",
       "      <td>0.2364</td>\n",
       "      <td>0.07678</td>\n",
       "    </tr>\n",
       "  </tbody>\n",
       "</table>\n",
       "<p>5 rows × 32 columns</p>\n",
       "</div>"
      ],
      "text/plain": [
       "         id diagnosis  radius_m  radius_s  radius_w  texture_m  texture_s  \\\n",
       "0    842302         M     17.99     10.38    122.80     1001.0    0.11840   \n",
       "1    842517         M     20.57     17.77    132.90     1326.0    0.08474   \n",
       "2  84300903         M     19.69     21.25    130.00     1203.0    0.10960   \n",
       "3  84348301         M     11.42     20.38     77.58      386.1    0.14250   \n",
       "4  84358402         M     20.29     14.34    135.10     1297.0    0.10030   \n",
       "\n",
       "   texture_w  perimeter_m  perimeter_s  ...  concavity_w  concave points_m  \\\n",
       "0    0.27760       0.3001      0.14710  ...        25.38             17.33   \n",
       "1    0.07864       0.0869      0.07017  ...        24.99             23.41   \n",
       "2    0.15990       0.1974      0.12790  ...        23.57             25.53   \n",
       "3    0.28390       0.2414      0.10520  ...        14.91             26.50   \n",
       "4    0.13280       0.1980      0.10430  ...        22.54             16.67   \n",
       "\n",
       "   concave points_s  concave points_w  symmetry_m  symmetry_s  symmetry_w  \\\n",
       "0            184.60            2019.0      0.1622      0.6656      0.7119   \n",
       "1            158.80            1956.0      0.1238      0.1866      0.2416   \n",
       "2            152.50            1709.0      0.1444      0.4245      0.4504   \n",
       "3             98.87             567.7      0.2098      0.8663      0.6869   \n",
       "4            152.20            1575.0      0.1374      0.2050      0.4000   \n",
       "\n",
       "   fractal dimension_m  fractal dimension_s  fractal dimension_w  \n",
       "0               0.2654               0.4601              0.11890  \n",
       "1               0.1860               0.2750              0.08902  \n",
       "2               0.2430               0.3613              0.08758  \n",
       "3               0.2575               0.6638              0.17300  \n",
       "4               0.1625               0.2364              0.07678  \n",
       "\n",
       "[5 rows x 32 columns]"
      ]
     },
     "execution_count": 4,
     "metadata": {},
     "output_type": "execute_result"
    }
   ],
   "source": [
    "wdbc = pd.read_csv('./wdbc.csv')\n",
    "\n",
    "# first 5 rows\n",
    "print(len(wdbc))\n",
    "wdbc.head()\n",
    "\n",
    "# full \n",
    "# print(wdbc)"
   ]
  },
  {
   "cell_type": "code",
   "execution_count": 5,
   "metadata": {},
   "outputs": [
    {
     "name": "stdout",
     "output_type": "stream",
     "text": [
      "<class 'pandas.core.frame.DataFrame'>\n",
      "RangeIndex: 569 entries, 0 to 568\n",
      "Data columns (total 32 columns):\n",
      "id                     569 non-null int64\n",
      "diagnosis              569 non-null object\n",
      "radius_m               569 non-null float64\n",
      "radius_s               569 non-null float64\n",
      "radius_w               569 non-null float64\n",
      "texture_m              569 non-null float64\n",
      "texture_s              569 non-null float64\n",
      "texture_w              569 non-null float64\n",
      "perimeter_m            569 non-null float64\n",
      "perimeter_s            569 non-null float64\n",
      "perimeter_w            569 non-null float64\n",
      "area_m                 569 non-null float64\n",
      "area_s                 569 non-null float64\n",
      "area_w                 569 non-null float64\n",
      "smoothness_m           569 non-null float64\n",
      "smoothness_s           569 non-null float64\n",
      "smoothness_w           569 non-null float64\n",
      "compactness_m          569 non-null float64\n",
      "compactness_s          569 non-null float64\n",
      "compactness_w          569 non-null float64\n",
      "concavity_m            569 non-null float64\n",
      "concavity_s            569 non-null float64\n",
      "concavity_w            569 non-null float64\n",
      "concave points_m       569 non-null float64\n",
      "concave points_s       569 non-null float64\n",
      "concave points_w       569 non-null float64\n",
      "symmetry_m             569 non-null float64\n",
      "symmetry_s             569 non-null float64\n",
      "symmetry_w             569 non-null float64\n",
      "fractal dimension_m    569 non-null float64\n",
      "fractal dimension_s    569 non-null float64\n",
      "fractal dimension_w    569 non-null float64\n",
      "dtypes: float64(30), int64(1), object(1)\n",
      "memory usage: 142.3+ KB\n"
     ]
    }
   ],
   "source": [
    "wdbc.info()"
   ]
  },
  {
   "cell_type": "markdown",
   "metadata": {},
   "source": [
    "---------------------\n",
    "\n",
    "## Convert DataFrame as Numpy Array"
   ]
  },
  {
   "cell_type": "code",
   "execution_count": 6,
   "metadata": {},
   "outputs": [],
   "source": [
    "data_column = wdbc.columns[2:]\n",
    "X = wdbc[data_column].values"
   ]
  },
  {
   "cell_type": "code",
   "execution_count": 7,
   "metadata": {},
   "outputs": [],
   "source": [
    "Y = pd.Categorical(wdbc.diagnosis).codes"
   ]
  },
  {
   "cell_type": "markdown",
   "metadata": {},
   "source": [
    "---------------------------------\n",
    "\n",
    "## Scikit-learn : Data Splitting\n",
    "\n",
    "#### Scikit-learn의 내장함수인 train_test_split을 이용하여 train set와 test set을 분리해 봅시다.\n",
    "\n",
    "```python\n",
    "def train_test_split(*arrays, **options):\n",
    "    \"\"\"\n",
    "    Split arrays or matrices into random train and test subsets\n",
    "    Quick utility that wraps input validation and\n",
    "    ``next(ShuffleSplit().split(X, y))`` and application to input data\n",
    "    into a single call for splitting (and optionally subsampling) data in a\n",
    "    oneliner.\n",
    "    Read more in the :ref:`User Guide <cross_validation>`.\n",
    "    Parameters\n",
    "    ----------\n",
    "    *arrays : sequence of indexables with same length / shape[0]\n",
    "        Allowed inputs are lists, numpy arrays, scipy-sparse\n",
    "        matrices or pandas dataframes.\n",
    "    test_size : float, int or None, optional (default=0.25)\n",
    "        If float, should be between 0.0 and 1.0 and represent the proportion\n",
    "        of the dataset to include in the test split. If int, represents the\n",
    "        absolute number of test samples. If None, the value is set to the\n",
    "        complement of the train size. By default, the value is set to 0.25.\n",
    "        The default will change in version 0.21. It will remain 0.25 only\n",
    "        if ``train_size`` is unspecified, otherwise it will complement\n",
    "        the specified ``train_size``.\n",
    "    train_size : float, int, or None, (default=None)\n",
    "        If float, should be between 0.0 and 1.0 and represent the\n",
    "        proportion of the dataset to include in the train split. If\n",
    "        int, represents the absolute number of train samples. If None,\n",
    "        the value is automatically set to the complement of the test size.\n",
    "    random_state : int, RandomState instance or None, optional (default=None)\n",
    "        If int, random_state is the seed used by the random number generator;\n",
    "        If RandomState instance, random_state is the random number generator;\n",
    "        If None, the random number generator is the RandomState instance used\n",
    "        by `np.random`.\n",
    "    shuffle : boolean, optional (default=True)\n",
    "        Whether or not to shuffle the data before splitting. If shuffle=False\n",
    "        then stratify must be None.\n",
    "    stratify : array-like or None (default=None)\n",
    "        If not None, data is split in a stratified fashion, using this as\n",
    "        the class labels.\n",
    "    Returns\n",
    "    -------\n",
    "    splitting : list, length=2 * len(arrays)\n",
    "        List containing train-test split of inputs.\n",
    "        .. versionadded:: 0.16\n",
    "            If the input is sparse, the output will be a\n",
    "            ``scipy.sparse.csr_matrix``. Else, output type is the same as the\n",
    "            input type.\n",
    "    \"\"\"\n",
    "\n",
    "```"
   ]
  },
  {
   "cell_type": "code",
   "execution_count": 8,
   "metadata": {},
   "outputs": [],
   "source": [
    "from sklearn.model_selection import train_test_split"
   ]
  },
  {
   "cell_type": "code",
   "execution_count": 9,
   "metadata": {},
   "outputs": [],
   "source": [
    "train_X, test_X, train_y, test_y = train_test_split(X, Y, \n",
    "                                                    test_size=0.3,\n",
    "#                                                    train_size=0.75,\n",
    "                                                    random_state=12345)"
   ]
  },
  {
   "cell_type": "code",
   "execution_count": 10,
   "metadata": {},
   "outputs": [
    {
     "name": "stdout",
     "output_type": "stream",
     "text": [
      "train data ratio:  0.6994727592267135\n",
      "All: [62.74165202 37.25834798]\n",
      "Training: [61.80904523 38.19095477]\n",
      "Test: [64.9122807 35.0877193]\n"
     ]
    }
   ],
   "source": [
    "print('train data ratio: ', len(train_X)/len(X))\n",
    "\n",
    "print('All:', np.bincount(Y) / float(len(Y)) * 100.0)\n",
    "print('Training:', np.bincount(train_y) / float(len(train_y)) * 100.0)\n",
    "print('Test:', np.bincount(test_y) / float(len(test_y)) * 100.0)"
   ]
  },
  {
   "cell_type": "markdown",
   "metadata": {},
   "source": [
    "## Data Balencing Issue"
   ]
  },
  {
   "cell_type": "code",
   "execution_count": 11,
   "metadata": {},
   "outputs": [],
   "source": [
    "train_X, test_X, train_y, test_y = train_test_split(X, Y, \n",
    "                                                    test_size=0.3,\n",
    "                                                    random_state=12345,\n",
    "                                                    stratify=Y)"
   ]
  },
  {
   "cell_type": "code",
   "execution_count": 12,
   "metadata": {},
   "outputs": [
    {
     "name": "stdout",
     "output_type": "stream",
     "text": [
      "All: [62.74165202 37.25834798]\n",
      "Training: [62.81407035 37.18592965]\n",
      "Test: [62.57309942 37.42690058]\n"
     ]
    }
   ],
   "source": [
    "print('All:', np.bincount(Y) / float(len(Y)) * 100.0)\n",
    "print('Training:', np.bincount(train_y) / float(len(train_y)) * 100.0)\n",
    "print('Test:', np.bincount(test_y) / float(len(test_y)) * 100.0)"
   ]
  },
  {
   "cell_type": "markdown",
   "metadata": {},
   "source": [
    "---------------------\n",
    "## Let's Get It \n"
   ]
  },
  {
   "cell_type": "markdown",
   "metadata": {},
   "source": [
    "#### [Logistic Regression](https://scikit-learn.org/stable/modules/generated/sklearn.linear_model.LogisticRegression.html)"
   ]
  },
  {
   "cell_type": "code",
   "execution_count": 13,
   "metadata": {},
   "outputs": [],
   "source": [
    "from sklearn.linear_model import LogisticRegression"
   ]
  },
  {
   "cell_type": "markdown",
   "metadata": {},
   "source": [
    "#### Load algorithm (create classifier)"
   ]
  },
  {
   "cell_type": "code",
   "execution_count": 14,
   "metadata": {},
   "outputs": [],
   "source": [
    "classifier_lr = LogisticRegression() # class instance "
   ]
  },
  {
   "cell_type": "markdown",
   "metadata": {},
   "source": [
    "#### Fit!"
   ]
  },
  {
   "cell_type": "code",
   "execution_count": 15,
   "metadata": {},
   "outputs": [
    {
     "name": "stderr",
     "output_type": "stream",
     "text": [
      "/opt/local/anaconda/3.6/lib/python3.6/site-packages/sklearn/linear_model/logistic.py:433: FutureWarning: Default solver will be changed to 'lbfgs' in 0.22. Specify a solver to silence this warning.\n",
      "  FutureWarning)\n"
     ]
    },
    {
     "data": {
      "text/plain": [
       "LogisticRegression(C=1.0, class_weight=None, dual=False, fit_intercept=True,\n",
       "          intercept_scaling=1, max_iter=100, multi_class='warn',\n",
       "          n_jobs=None, penalty='l2', random_state=None, solver='warn',\n",
       "          tol=0.0001, verbose=0, warm_start=False)"
      ]
     },
     "execution_count": 15,
     "metadata": {},
     "output_type": "execute_result"
    }
   ],
   "source": [
    "classifier_lr.fit(train_X, train_y)"
   ]
  },
  {
   "cell_type": "markdown",
   "metadata": {},
   "source": [
    "#### Prediction"
   ]
  },
  {
   "cell_type": "code",
   "execution_count": 16,
   "metadata": {},
   "outputs": [],
   "source": [
    "prediction_lr = classifier_lr.predict(test_X)"
   ]
  },
  {
   "cell_type": "markdown",
   "metadata": {},
   "source": [
    "#### Evaluation"
   ]
  },
  {
   "cell_type": "code",
   "execution_count": 17,
   "metadata": {},
   "outputs": [
    {
     "name": "stdout",
     "output_type": "stream",
     "text": [
      "[0 1 0 0 0 0 0 1 0 0 0 1 0 0 1 0 0 0 1 1 0 1 0 0 0 0 0 0 0 1 1 0 1 0 1 0 0\n",
      " 1 1 0 0 0 0 0 0 0 1 0 0 1 0 1 0 0 1 0 1 0 1 1 0 1 1 0 0 1 0 1 0 1 0 1 0 1\n",
      " 0 0 0 1 0 1 1 1 0 0 1 0 1 1 0 0 1 0 1 1 1 1 1 1 0 0 0 0 0 1 1 0 1 1 0 0 1\n",
      " 0 0 0 0 1 0 1 0 0 1 0 1 1 0 0 0 0 0 0 0 0 0 0 0 0 0 0 0 0 1 0 0 0 1 0 0 1\n",
      " 0 1 0 1 1 0 1 0 0 0 0 0 1 1 0 0 0 0 0 1 1 0 1]\n",
      "[0 1 0 0 0 0 0 1 0 1 1 0 0 0 1 0 0 1 1 1 0 1 0 0 0 0 0 0 1 1 0 0 1 0 1 0 0\n",
      " 1 1 0 0 0 0 0 0 0 1 1 0 1 0 1 0 0 1 0 0 0 1 1 0 1 1 0 0 1 0 1 0 1 0 1 0 1\n",
      " 0 0 0 1 0 1 1 1 0 0 1 0 1 1 0 0 0 0 1 1 0 0 1 1 0 0 0 0 0 0 1 0 1 1 0 0 1\n",
      " 0 0 0 0 1 0 1 0 0 1 0 1 1 0 0 0 0 0 0 0 0 0 0 0 0 0 0 1 0 1 0 0 0 1 0 0 1\n",
      " 0 1 0 1 1 1 1 0 0 0 0 0 1 1 0 1 0 0 0 1 1 0 1]\n"
     ]
    }
   ],
   "source": [
    "print(prediction_lr)\n",
    "print(test_y)"
   ]
  },
  {
   "cell_type": "code",
   "execution_count": 18,
   "metadata": {},
   "outputs": [
    {
     "name": "stdout",
     "output_type": "stream",
     "text": [
      "Fraction Correct [Accuracy]:  0.9122807017543859\n"
     ]
    }
   ],
   "source": [
    "print(\"Fraction Correct [Accuracy]: \", np.sum(prediction_lr == test_y) / float(len(test_y)))"
   ]
  },
  {
   "cell_type": "code",
   "execution_count": 19,
   "metadata": {},
   "outputs": [
    {
     "name": "stdout",
     "output_type": "stream",
     "text": [
      "Samples incorrectly classified:  [  9  10  11  17  28  30  47  56  90  94  95 103 138 153 163]\n"
     ]
    }
   ],
   "source": [
    "print('Samples incorrectly classified: ', np.where(prediction_lr != test_y)[0])"
   ]
  },
  {
   "cell_type": "markdown",
   "metadata": {},
   "source": [
    "----------------------------\n",
    "#### [K Neighbors Classifier](https://scikit-learn.org/stable/modules/generated/sklearn.neighbors.KNeighborsClassifier.html) "
   ]
  },
  {
   "cell_type": "code",
   "execution_count": 20,
   "metadata": {},
   "outputs": [
    {
     "name": "stdout",
     "output_type": "stream",
     "text": [
      "Fraction Correct [Accuracy]:  0.9298245614035088\n",
      "Samples incorrectly classified:  [  9  10  11  30  47  56  73  82 146 147 153 163]\n"
     ]
    }
   ],
   "source": [
    "# call module (method)\n",
    "from sklearn.neighbors import KNeighborsClassifier\n",
    "\n",
    "# create classifier (class) instance \n",
    "classifier_kn = KNeighborsClassifier().fit(train_X, train_y)\n",
    "\n",
    "# compute accuracy \n",
    "print(\"Fraction Correct [Accuracy]: \", classifier_kn.score(test_X, test_y))\n",
    "# or \n",
    "# print(\"Fraction Correct [Accuracy]: \", np.sum(classifier_kn.predict(test_X) == test_y) / float(len(test_y)))\n",
    "\n",
    "print('Samples incorrectly classified: ', np.where(classifier_kn.predict(test_X) != test_y)[0])"
   ]
  },
  {
   "cell_type": "markdown",
   "metadata": {},
   "source": [
    "---------------------------\n",
    "## Show me the Graph (not money!!)"
   ]
  },
  {
   "cell_type": "markdown",
   "metadata": {},
   "source": [
    "#### Define an useful function"
   ]
  },
  {
   "cell_type": "code",
   "execution_count": 21,
   "metadata": {},
   "outputs": [],
   "source": [
    "plt.rcParams['figure.figsize'] = [12, 8]\n",
    "\n",
    "# function definition ...\n",
    "def plot_embedding(X, Y, title=None):\n",
    "    x_min, x_max = np.min(X, 0), np.max(X, 0)\n",
    "    X = (X - x_min) / (x_max - x_min)\n",
    "\n",
    "    plt.figure()\n",
    "    fig, ax = plt.subplots()\n",
    "    for i in range(X.shape[0]):\n",
    "        if X.shape[1] > 1:\n",
    "            plt.text(X[i, 0], X[i, 1], 'M' if Y[i] > 0 else 'B', color=plt.cm.tab10(Y[i]), fontdict={'weight': 'bold', 'size': 9})\n",
    "        else:\n",
    "            plt.text(X[i, 0], 0.5, 'M' if Y[i] > 0 else 'B', color=plt.cm.tab10(1-Y[i]), fontdict={'weight': 'bold', 'size': 9})\n",
    "        \n",
    "    plt.xticks([]), plt.yticks([])\n",
    "    if title is not None:\n",
    "        plt.title(title)\n"
   ]
  },
  {
   "cell_type": "markdown",
   "metadata": {},
   "source": [
    "#### [Principal Component Analysis, PCA](https://scikit-learn.org/stable/modules/generated/sklearn.decomposition.PCA.html)"
   ]
  },
  {
   "cell_type": "code",
   "execution_count": 22,
   "metadata": {},
   "outputs": [
    {
     "data": {
      "text/plain": [
       "<Figure size 864x576 with 0 Axes>"
      ]
     },
     "metadata": {},
     "output_type": "display_data"
    },
    {
     "data": {
      "image/png": "[encoded data removed]",
      "text/plain": [
       "<Figure size 864x576 with 1 Axes>"
      ]
     },
     "metadata": {},
     "output_type": "display_data"
    }
   ],
   "source": [
    "from sklearn.decomposition import PCA\n",
    "\n",
    "pca = PCA(n_components=2).fit(train_X)\n",
    "# print(pca.singular_values_)  \n",
    "# print(pca.explained_variance_ratio_)  \n",
    "# print(pca.components_)\n",
    "\n",
    "X_pca = pca.transform(train_X)\n",
    "plot_embedding(X_pca, train_y, \"Principal Components projection\")\n"
   ]
  },
  {
   "cell_type": "markdown",
   "metadata": {},
   "source": [
    "----------------------------------\n",
    "## Pump up the accuracy !!"
   ]
  },
  {
   "cell_type": "markdown",
   "metadata": {},
   "source": [
    "#### data normalization"
   ]
  },
  {
   "cell_type": "code",
   "execution_count": 23,
   "metadata": {},
   "outputs": [],
   "source": [
    "# cf. full data scaling ...\n",
    "# scaled_X = (wdbc[data_column] - wdbc[data_column].mean())/wdbc[data_column].std()\n",
    "# train_X, test_X, train_y, test_y = train_test_split(scaled_X, Y, \n",
    "#                                                     train_size=0.75,\n",
    "#                                                     test_size=0.25,\n",
    "#                                                     random_state=1234,\n",
    "#                                                     stratify=Y)"
   ]
  },
  {
   "cell_type": "code",
   "execution_count": 24,
   "metadata": {},
   "outputs": [
    {
     "data": {
      "text/plain": [
       "StandardScaler(copy=True, with_mean=True, with_std=True)"
      ]
     },
     "execution_count": 24,
     "metadata": {},
     "output_type": "execute_result"
    }
   ],
   "source": [
    "from sklearn.preprocessing import StandardScaler\n",
    "scaler = StandardScaler()\n",
    "scaler.fit(train_X)"
   ]
  },
  {
   "cell_type": "code",
   "execution_count": 25,
   "metadata": {},
   "outputs": [],
   "source": [
    "scaled_train_X = scaler.transform(train_X)\n",
    "scaled_test_X = scaler.transform(test_X)\n",
    "\n",
    "# check\n",
    "# print(np.mean(scaled_train_X,axis=0), np.std(scaled_train_X,axis=0))\n",
    "# print(np.mean(scaled_test_X,axis=0), np.std(scaled_test_X,axis=0))"
   ]
  },
  {
   "cell_type": "code",
   "execution_count": 26,
   "metadata": {},
   "outputs": [
    {
     "name": "stdout",
     "output_type": "stream",
     "text": [
      "Fraction Correct [Accuracy]:  0.9590643274853801\n",
      "Samples incorrectly classified:  [ 10  24  28  34 138 153 163]\n"
     ]
    }
   ],
   "source": [
    "classifier_skn = KNeighborsClassifier().fit(scaled_train_X, train_y)\n",
    "\n",
    "print(\"Fraction Correct [Accuracy]: \", classifier_skn.score(scaled_test_X, test_y))\n",
    "print('Samples incorrectly classified: ', np.where(classifier_skn.predict(scaled_test_X) != test_y)[0])"
   ]
  },
  {
   "cell_type": "code",
   "execution_count": 27,
   "metadata": {},
   "outputs": [
    {
     "data": {
      "text/plain": [
       "<Figure size 864x576 with 0 Axes>"
      ]
     },
     "metadata": {},
     "output_type": "display_data"
    },
    {
     "data": {
      "image/png": "[encoded data removed]",
      "text/plain": [
       "<Figure size 864x576 with 1 Axes>"
      ]
     },
     "metadata": {},
     "output_type": "display_data"
    }
   ],
   "source": [
    "pca = PCA(n_components=2).fit(scaled_train_X)\n",
    "# print(pca.singular_values_)  \n",
    "# print(pca.explained_variance_ratio_)  \n",
    "# print(pca.components_)\n",
    "\n",
    "X_pca = pca.transform(scaled_train_X)\n",
    "plot_embedding(X_pca, train_y, \"Principal Components projection\")\n"
   ]
  },
  {
   "cell_type": "code",
   "execution_count": 28,
   "metadata": {},
   "outputs": [
    {
     "name": "stdout",
     "output_type": "stream",
     "text": [
      "Fraction Correct [Accuracy]:  0.9707602339181286\n",
      "Samples incorrectly classified:  [  9  10  17  95 116]\n"
     ]
    },
    {
     "name": "stderr",
     "output_type": "stream",
     "text": [
      "/opt/local/anaconda/3.6/lib/python3.6/site-packages/sklearn/linear_model/logistic.py:433: FutureWarning: Default solver will be changed to 'lbfgs' in 0.22. Specify a solver to silence this warning.\n",
      "  FutureWarning)\n"
     ]
    }
   ],
   "source": [
    "# linear classifier with scaled data\n",
    "classifier_lr = LogisticRegression()\n",
    "classifier_lr.fit(scaled_train_X, train_y)\n",
    "\n",
    "print(\"Fraction Correct [Accuracy]: \", classifier_lr.score(scaled_test_X, test_y))\n",
    "print('Samples incorrectly classified: ', np.where(classifier_lr.predict(scaled_test_X) != test_y)[0])\n"
   ]
  },
  {
   "cell_type": "markdown",
   "metadata": {},
   "source": [
    "----------------------------------\n",
    "#### [Decision Tree Classifier](https://scikit-learn.org/stable/modules/generated/sklearn.tree.DecisionTreeClassifier.html)"
   ]
  },
  {
   "cell_type": "code",
   "execution_count": 29,
   "metadata": {},
   "outputs": [],
   "source": [
    "from sklearn import tree\n",
    "from sklearn.model_selection import cross_val_score"
   ]
  },
  {
   "cell_type": "code",
   "execution_count": 30,
   "metadata": {},
   "outputs": [
    {
     "name": "stdout",
     "output_type": "stream",
     "text": [
      " mean: 0.9143987341772153  std: 0.03541222666181687\n"
     ]
    }
   ],
   "source": [
    "# algorithm\n",
    "classifier_dt = tree.DecisionTreeClassifier(criterion='gini', max_depth=None)\n",
    "# fit!\n",
    "classifier_dt.fit(scaled_train_X, train_y)\n",
    "\n",
    "score = cross_val_score(classifier_dt, scaled_train_X, train_y, cv=5)\n",
    "print(' mean:', score.mean(), ' std:', score.std())"
   ]
  },
  {
   "cell_type": "code",
   "execution_count": 31,
   "metadata": {},
   "outputs": [
    {
     "data": {
      "image/svg+xml": [
       "<?xml version=\"1.0\" encoding=\"UTF-8\" standalone=\"no\"?>\n",
       "<!DOCTYPE svg PUBLIC \"-//W3C//DTD SVG 1.1//EN\"\n",
       " \"http://www.w3.org/Graphics/SVG/1.1/DTD/svg11.dtd\">\n",
       "<!-- Generated by graphviz version 2.40.1 (20161225.0304)\n",
       " -->\n",
       "<!-- Title: Tree Pages: 1 -->\n",
       "<svg width=\"1520pt\" height=\"789pt\"\n",
       " viewBox=\"0.00 0.00 1520.00 789.00\" xmlns=\"http://www.w3.org/2000/svg\" xmlns:xlink=\"http://www.w3.org/1999/xlink\">\n",
       "<g id=\"graph0\" class=\"graph\" transform=\"scale(1 1) rotate(0) translate(4 785)\">\n",
       "<title>Tree</title>\n",
       "<polygon fill=\"#ffffff\" stroke=\"transparent\" points=\"-4,4 -4,-785 1516,-785 1516,4 -4,4\"/>\n",
       "<!-- 0 -->\n",
       "<g id=\"node1\" class=\"node\">\n",
       "<title>0</title>\n",
       "<path fill=\"#e58139\" fill-opacity=\"0.407843\" stroke=\"#000000\" d=\"M1126,-781C1126,-781 961,-781 961,-781 955,-781 949,-775 949,-769 949,-769 949,-725 949,-725 949,-719 955,-713 961,-713 961,-713 1126,-713 1126,-713 1132,-713 1138,-719 1138,-725 1138,-725 1138,-769 1138,-769 1138,-775 1132,-781 1126,-781\"/>\n",
       "<text text-anchor=\"middle\" x=\"1043.5\" y=\"-765.8\" font-family=\"Helvetica,sans-Serif\" font-size=\"14.00\" fill=\"#000000\">concave points_s &lt;= &#45;0.004</text>\n",
       "<text text-anchor=\"middle\" x=\"1043.5\" y=\"-750.8\" font-family=\"Helvetica,sans-Serif\" font-size=\"14.00\" fill=\"#000000\">gini = 0.467</text>\n",
       "<text text-anchor=\"middle\" x=\"1043.5\" y=\"-735.8\" font-family=\"Helvetica,sans-Serif\" font-size=\"14.00\" fill=\"#000000\">samples = 398</text>\n",
       "<text text-anchor=\"middle\" x=\"1043.5\" y=\"-720.8\" font-family=\"Helvetica,sans-Serif\" font-size=\"14.00\" fill=\"#000000\">value = [250, 148]</text>\n",
       "</g>\n",
       "<!-- 1 -->\n",
       "<g id=\"node2\" class=\"node\">\n",
       "<title>1</title>\n",
       "<path fill=\"#e58139\" fill-opacity=\"0.949020\" stroke=\"#000000\" d=\"M970,-677C970,-677 793,-677 793,-677 787,-677 781,-671 781,-665 781,-665 781,-621 781,-621 781,-615 787,-609 793,-609 793,-609 970,-609 970,-609 976,-609 982,-615 982,-621 982,-621 982,-665 982,-665 982,-671 976,-677 970,-677\"/>\n",
       "<text text-anchor=\"middle\" x=\"881.5\" y=\"-661.8\" font-family=\"Helvetica,sans-Serif\" font-size=\"14.00\" fill=\"#000000\">fractal dimension_m &lt;= 0.523</text>\n",
       "<text text-anchor=\"middle\" x=\"881.5\" y=\"-646.8\" font-family=\"Helvetica,sans-Serif\" font-size=\"14.00\" fill=\"#000000\">gini = 0.093</text>\n",
       "<text text-anchor=\"middle\" x=\"881.5\" y=\"-631.8\" font-family=\"Helvetica,sans-Serif\" font-size=\"14.00\" fill=\"#000000\">samples = 246</text>\n",
       "<text text-anchor=\"middle\" x=\"881.5\" y=\"-616.8\" font-family=\"Helvetica,sans-Serif\" font-size=\"14.00\" fill=\"#000000\">value = [234, 12]</text>\n",
       "</g>\n",
       "<!-- 0&#45;&gt;1 -->\n",
       "<g id=\"edge1\" class=\"edge\">\n",
       "<title>0&#45;&gt;1</title>\n",
       "<path fill=\"none\" stroke=\"#000000\" d=\"M990.4551,-712.9465C975.3505,-703.2497 958.7676,-692.6039 943.1954,-682.6069\"/>\n",
       "<polygon fill=\"#000000\" stroke=\"#000000\" points=\"944.97,-679.5871 934.664,-677.13 941.1884,-685.4777 944.97,-679.5871\"/>\n",
       "<text text-anchor=\"middle\" x=\"939.99\" y=\"-697.8561\" font-family=\"Helvetica,sans-Serif\" font-size=\"14.00\" fill=\"#000000\">True</text>\n",
       "</g>\n",
       "<!-- 22 -->\n",
       "<g id=\"node23\" class=\"node\">\n",
       "<title>22</title>\n",
       "<path fill=\"#399de5\" fill-opacity=\"0.882353\" stroke=\"#000000\" d=\"M1230,-677C1230,-677 1053,-677 1053,-677 1047,-677 1041,-671 1041,-665 1041,-665 1041,-621 1041,-621 1041,-615 1047,-609 1053,-609 1053,-609 1230,-609 1230,-609 1236,-609 1242,-615 1242,-621 1242,-621 1242,-665 1242,-665 1242,-671 1236,-677 1230,-677\"/>\n",
       "<text text-anchor=\"middle\" x=\"1141.5\" y=\"-661.8\" font-family=\"Helvetica,sans-Serif\" font-size=\"14.00\" fill=\"#000000\">fractal dimension_m &lt;= 0.461</text>\n",
       "<text text-anchor=\"middle\" x=\"1141.5\" y=\"-646.8\" font-family=\"Helvetica,sans-Serif\" font-size=\"14.00\" fill=\"#000000\">gini = 0.188</text>\n",
       "<text text-anchor=\"middle\" x=\"1141.5\" y=\"-631.8\" font-family=\"Helvetica,sans-Serif\" font-size=\"14.00\" fill=\"#000000\">samples = 152</text>\n",
       "<text text-anchor=\"middle\" x=\"1141.5\" y=\"-616.8\" font-family=\"Helvetica,sans-Serif\" font-size=\"14.00\" fill=\"#000000\">value = [16, 136]</text>\n",
       "</g>\n",
       "<!-- 0&#45;&gt;22 -->\n",
       "<g id=\"edge22\" class=\"edge\">\n",
       "<title>0&#45;&gt;22</title>\n",
       "<path fill=\"none\" stroke=\"#000000\" d=\"M1075.5889,-712.9465C1084.134,-703.8782 1093.4613,-693.9799 1102.3391,-684.5585\"/>\n",
       "<polygon fill=\"#000000\" stroke=\"#000000\" points=\"1105.0283,-686.8082 1109.339,-677.13 1099.9337,-682.0076 1105.0283,-686.8082\"/>\n",
       "<text text-anchor=\"middle\" x=\"1110.0813\" y=\"-698.419\" font-family=\"Helvetica,sans-Serif\" font-size=\"14.00\" fill=\"#000000\">False</text>\n",
       "</g>\n",
       "<!-- 2 -->\n",
       "<g id=\"node3\" class=\"node\">\n",
       "<title>2</title>\n",
       "<path fill=\"#e58139\" fill-opacity=\"0.984314\" stroke=\"#000000\" d=\"M729.5,-573C729.5,-573 597.5,-573 597.5,-573 591.5,-573 585.5,-567 585.5,-561 585.5,-561 585.5,-517 585.5,-517 585.5,-511 591.5,-505 597.5,-505 597.5,-505 729.5,-505 729.5,-505 735.5,-505 741.5,-511 741.5,-517 741.5,-517 741.5,-561 741.5,-561 741.5,-567 735.5,-573 729.5,-573\"/>\n",
       "<text text-anchor=\"middle\" x=\"663.5\" y=\"-557.8\" font-family=\"Helvetica,sans-Serif\" font-size=\"14.00\" fill=\"#000000\">symmetry_m &lt;= 2.474</text>\n",
       "<text text-anchor=\"middle\" x=\"663.5\" y=\"-542.8\" font-family=\"Helvetica,sans-Serif\" font-size=\"14.00\" fill=\"#000000\">gini = 0.033</text>\n",
       "<text text-anchor=\"middle\" x=\"663.5\" y=\"-527.8\" font-family=\"Helvetica,sans-Serif\" font-size=\"14.00\" fill=\"#000000\">samples = 235</text>\n",
       "<text text-anchor=\"middle\" x=\"663.5\" y=\"-512.8\" font-family=\"Helvetica,sans-Serif\" font-size=\"14.00\" fill=\"#000000\">value = [231, 4]</text>\n",
       "</g>\n",
       "<!-- 1&#45;&gt;2 -->\n",
       "<g id=\"edge2\" class=\"edge\">\n",
       "<title>1&#45;&gt;2</title>\n",
       "<path fill=\"none\" stroke=\"#000000\" d=\"M810.1186,-608.9465C789.0398,-598.8906 765.8216,-587.814 744.1997,-577.4989\"/>\n",
       "<polygon fill=\"#000000\" stroke=\"#000000\" points=\"745.5743,-574.2769 735.0417,-573.13 742.5602,-580.5948 745.5743,-574.2769\"/>\n",
       "</g>\n",
       "<!-- 19 -->\n",
       "<g id=\"node20\" class=\"node\">\n",
       "<title>19</title>\n",
       "<path fill=\"#399de5\" fill-opacity=\"0.623529\" stroke=\"#000000\" d=\"M966,-573C966,-573 797,-573 797,-573 791,-573 785,-567 785,-561 785,-561 785,-517 785,-517 785,-511 791,-505 797,-505 797,-505 966,-505 966,-505 972,-505 978,-511 978,-517 978,-517 978,-561 978,-561 978,-567 972,-573 966,-573\"/>\n",
       "<text text-anchor=\"middle\" x=\"881.5\" y=\"-557.8\" font-family=\"Helvetica,sans-Serif\" font-size=\"14.00\" fill=\"#000000\">concave points_m &lt;= &#45;0.151</text>\n",
       "<text text-anchor=\"middle\" x=\"881.5\" y=\"-542.8\" font-family=\"Helvetica,sans-Serif\" font-size=\"14.00\" fill=\"#000000\">gini = 0.397</text>\n",
       "<text text-anchor=\"middle\" x=\"881.5\" y=\"-527.8\" font-family=\"Helvetica,sans-Serif\" font-size=\"14.00\" fill=\"#000000\">samples = 11</text>\n",
       "<text text-anchor=\"middle\" x=\"881.5\" y=\"-512.8\" font-family=\"Helvetica,sans-Serif\" font-size=\"14.00\" fill=\"#000000\">value = [3, 8]</text>\n",
       "</g>\n",
       "<!-- 1&#45;&gt;19 -->\n",
       "<g id=\"edge19\" class=\"edge\">\n",
       "<title>1&#45;&gt;19</title>\n",
       "<path fill=\"none\" stroke=\"#000000\" d=\"M881.5,-608.9465C881.5,-600.776 881.5,-591.9318 881.5,-583.3697\"/>\n",
       "<polygon fill=\"#000000\" stroke=\"#000000\" points=\"885.0001,-583.13 881.5,-573.13 878.0001,-583.13 885.0001,-583.13\"/>\n",
       "</g>\n",
       "<!-- 3 -->\n",
       "<g id=\"node4\" class=\"node\">\n",
       "<title>3</title>\n",
       "<path fill=\"#e58139\" fill-opacity=\"0.988235\" stroke=\"#000000\" d=\"M572.5,-469C572.5,-469 430.5,-469 430.5,-469 424.5,-469 418.5,-463 418.5,-457 418.5,-457 418.5,-413 418.5,-413 418.5,-407 424.5,-401 430.5,-401 430.5,-401 572.5,-401 572.5,-401 578.5,-401 584.5,-407 584.5,-413 584.5,-413 584.5,-457 584.5,-457 584.5,-463 578.5,-469 572.5,-469\"/>\n",
       "<text text-anchor=\"middle\" x=\"501.5\" y=\"-453.8\" font-family=\"Helvetica,sans-Serif\" font-size=\"14.00\" fill=\"#000000\">smoothness_s &lt;= 0.315</text>\n",
       "<text text-anchor=\"middle\" x=\"501.5\" y=\"-438.8\" font-family=\"Helvetica,sans-Serif\" font-size=\"14.00\" fill=\"#000000\">gini = 0.025</text>\n",
       "<text text-anchor=\"middle\" x=\"501.5\" y=\"-423.8\" font-family=\"Helvetica,sans-Serif\" font-size=\"14.00\" fill=\"#000000\">samples = 233</text>\n",
       "<text text-anchor=\"middle\" x=\"501.5\" y=\"-408.8\" font-family=\"Helvetica,sans-Serif\" font-size=\"14.00\" fill=\"#000000\">value = [230, 3]</text>\n",
       "</g>\n",
       "<!-- 2&#45;&gt;3 -->\n",
       "<g id=\"edge3\" class=\"edge\">\n",
       "<title>2&#45;&gt;3</title>\n",
       "<path fill=\"none\" stroke=\"#000000\" d=\"M610.4551,-504.9465C595.3505,-495.2497 578.7676,-484.6039 563.1954,-474.6069\"/>\n",
       "<polygon fill=\"#000000\" stroke=\"#000000\" points=\"564.97,-471.5871 554.664,-469.13 561.1884,-477.4777 564.97,-471.5871\"/>\n",
       "</g>\n",
       "<!-- 16 -->\n",
       "<g id=\"node17\" class=\"node\">\n",
       "<title>16</title>\n",
       "<path fill=\"transparent\" stroke=\"#000000\" d=\"M712.5,-469C712.5,-469 614.5,-469 614.5,-469 608.5,-469 602.5,-463 602.5,-457 602.5,-457 602.5,-413 602.5,-413 602.5,-407 608.5,-401 614.5,-401 614.5,-401 712.5,-401 712.5,-401 718.5,-401 724.5,-407 724.5,-413 724.5,-413 724.5,-457 724.5,-457 724.5,-463 718.5,-469 712.5,-469\"/>\n",
       "<text text-anchor=\"middle\" x=\"663.5\" y=\"-453.8\" font-family=\"Helvetica,sans-Serif\" font-size=\"14.00\" fill=\"#000000\">area_w &lt;= 0.364</text>\n",
       "<text text-anchor=\"middle\" x=\"663.5\" y=\"-438.8\" font-family=\"Helvetica,sans-Serif\" font-size=\"14.00\" fill=\"#000000\">gini = 0.5</text>\n",
       "<text text-anchor=\"middle\" x=\"663.5\" y=\"-423.8\" font-family=\"Helvetica,sans-Serif\" font-size=\"14.00\" fill=\"#000000\">samples = 2</text>\n",
       "<text text-anchor=\"middle\" x=\"663.5\" y=\"-408.8\" font-family=\"Helvetica,sans-Serif\" font-size=\"14.00\" fill=\"#000000\">value = [1, 1]</text>\n",
       "</g>\n",
       "<!-- 2&#45;&gt;16 -->\n",
       "<g id=\"edge16\" class=\"edge\">\n",
       "<title>2&#45;&gt;16</title>\n",
       "<path fill=\"none\" stroke=\"#000000\" d=\"M663.5,-504.9465C663.5,-496.776 663.5,-487.9318 663.5,-479.3697\"/>\n",
       "<polygon fill=\"#000000\" stroke=\"#000000\" points=\"667.0001,-479.13 663.5,-469.13 660.0001,-479.13 667.0001,-479.13\"/>\n",
       "</g>\n",
       "<!-- 4 -->\n",
       "<g id=\"node5\" class=\"node\">\n",
       "<title>4</title>\n",
       "<path fill=\"#e58139\" fill-opacity=\"0.992157\" stroke=\"#000000\" d=\"M414,-365C414,-365 285,-365 285,-365 279,-365 273,-359 273,-353 273,-353 273,-309 273,-309 273,-303 279,-297 285,-297 285,-297 414,-297 414,-297 420,-297 426,-303 426,-309 426,-309 426,-353 426,-353 426,-359 420,-365 414,-365\"/>\n",
       "<text text-anchor=\"middle\" x=\"349.5\" y=\"-349.8\" font-family=\"Helvetica,sans-Serif\" font-size=\"14.00\" fill=\"#000000\">concavity_s &lt;= &#45;0.982</text>\n",
       "<text text-anchor=\"middle\" x=\"349.5\" y=\"-334.8\" font-family=\"Helvetica,sans-Serif\" font-size=\"14.00\" fill=\"#000000\">gini = 0.017</text>\n",
       "<text text-anchor=\"middle\" x=\"349.5\" y=\"-319.8\" font-family=\"Helvetica,sans-Serif\" font-size=\"14.00\" fill=\"#000000\">samples = 230</text>\n",
       "<text text-anchor=\"middle\" x=\"349.5\" y=\"-304.8\" font-family=\"Helvetica,sans-Serif\" font-size=\"14.00\" fill=\"#000000\">value = [228, 2]</text>\n",
       "</g>\n",
       "<!-- 3&#45;&gt;4 -->\n",
       "<g id=\"edge4\" class=\"edge\">\n",
       "<title>3&#45;&gt;4</title>\n",
       "<path fill=\"none\" stroke=\"#000000\" d=\"M451.7295,-400.9465C437.6885,-391.3395 422.286,-380.8009 407.7932,-370.8848\"/>\n",
       "<polygon fill=\"#000000\" stroke=\"#000000\" points=\"409.6118,-367.8883 399.3823,-365.13 405.659,-373.6655 409.6118,-367.8883\"/>\n",
       "</g>\n",
       "<!-- 13 -->\n",
       "<g id=\"node14\" class=\"node\">\n",
       "<title>13</title>\n",
       "<path fill=\"#e58139\" fill-opacity=\"0.498039\" stroke=\"#000000\" d=\"M559.5,-365C559.5,-365 461.5,-365 461.5,-365 455.5,-365 449.5,-359 449.5,-353 449.5,-353 449.5,-309 449.5,-309 449.5,-303 455.5,-297 461.5,-297 461.5,-297 559.5,-297 559.5,-297 565.5,-297 571.5,-303 571.5,-309 571.5,-309 571.5,-353 571.5,-353 571.5,-359 565.5,-365 559.5,-365\"/>\n",
       "<text text-anchor=\"middle\" x=\"510.5\" y=\"-349.8\" font-family=\"Helvetica,sans-Serif\" font-size=\"14.00\" fill=\"#000000\">area_w &lt;= 1.346</text>\n",
       "<text text-anchor=\"middle\" x=\"510.5\" y=\"-334.8\" font-family=\"Helvetica,sans-Serif\" font-size=\"14.00\" fill=\"#000000\">gini = 0.444</text>\n",
       "<text text-anchor=\"middle\" x=\"510.5\" y=\"-319.8\" font-family=\"Helvetica,sans-Serif\" font-size=\"14.00\" fill=\"#000000\">samples = 3</text>\n",
       "<text text-anchor=\"middle\" x=\"510.5\" y=\"-304.8\" font-family=\"Helvetica,sans-Serif\" font-size=\"14.00\" fill=\"#000000\">value = [2, 1]</text>\n",
       "</g>\n",
       "<!-- 3&#45;&gt;13 -->\n",
       "<g id=\"edge13\" class=\"edge\">\n",
       "<title>3&#45;&gt;13</title>\n",
       "<path fill=\"none\" stroke=\"#000000\" d=\"M504.4469,-400.9465C505.154,-392.776 505.9194,-383.9318 506.6603,-375.3697\"/>\n",
       "<polygon fill=\"#000000\" stroke=\"#000000\" points=\"510.1712,-375.3945 507.5464,-365.13 503.1972,-374.791 510.1712,-375.3945\"/>\n",
       "</g>\n",
       "<!-- 5 -->\n",
       "<g id=\"node6\" class=\"node\">\n",
       "<title>5</title>\n",
       "<path fill=\"#e58139\" fill-opacity=\"0.666667\" stroke=\"#000000\" d=\"M225,-261C225,-261 60,-261 60,-261 54,-261 48,-255 48,-249 48,-249 48,-205 48,-205 48,-199 54,-193 60,-193 60,-193 225,-193 225,-193 231,-193 237,-199 237,-205 237,-205 237,-249 237,-249 237,-255 231,-261 225,-261\"/>\n",
       "<text text-anchor=\"middle\" x=\"142.5\" y=\"-245.8\" font-family=\"Helvetica,sans-Serif\" font-size=\"14.00\" fill=\"#000000\">concave points_m &lt;= 0.401</text>\n",
       "<text text-anchor=\"middle\" x=\"142.5\" y=\"-230.8\" font-family=\"Helvetica,sans-Serif\" font-size=\"14.00\" fill=\"#000000\">gini = 0.375</text>\n",
       "<text text-anchor=\"middle\" x=\"142.5\" y=\"-215.8\" font-family=\"Helvetica,sans-Serif\" font-size=\"14.00\" fill=\"#000000\">samples = 4</text>\n",
       "<text text-anchor=\"middle\" x=\"142.5\" y=\"-200.8\" font-family=\"Helvetica,sans-Serif\" font-size=\"14.00\" fill=\"#000000\">value = [3, 1]</text>\n",
       "</g>\n",
       "<!-- 4&#45;&gt;5 -->\n",
       "<g id=\"edge5\" class=\"edge\">\n",
       "<title>4&#45;&gt;5</title>\n",
       "<path fill=\"none\" stroke=\"#000000\" d=\"M281.7205,-296.9465C261.7946,-286.9354 239.8554,-275.9129 219.4027,-265.6371\"/>\n",
       "<polygon fill=\"#000000\" stroke=\"#000000\" points=\"220.9388,-262.492 210.4318,-261.13 217.7961,-268.7469 220.9388,-262.492\"/>\n",
       "</g>\n",
       "<!-- 8 -->\n",
       "<g id=\"node9\" class=\"node\">\n",
       "<title>8</title>\n",
       "<path fill=\"#e58139\" fill-opacity=\"0.996078\" stroke=\"#000000\" d=\"M432,-261C432,-261 267,-261 267,-261 261,-261 255,-255 255,-249 255,-249 255,-205 255,-205 255,-199 261,-193 267,-193 267,-193 432,-193 432,-193 438,-193 444,-199 444,-205 444,-205 444,-249 444,-249 444,-255 438,-261 432,-261\"/>\n",
       "<text text-anchor=\"middle\" x=\"349.5\" y=\"-245.8\" font-family=\"Helvetica,sans-Serif\" font-size=\"14.00\" fill=\"#000000\">concave points_m &lt;= 1.245</text>\n",
       "<text text-anchor=\"middle\" x=\"349.5\" y=\"-230.8\" font-family=\"Helvetica,sans-Serif\" font-size=\"14.00\" fill=\"#000000\">gini = 0.009</text>\n",
       "<text text-anchor=\"middle\" x=\"349.5\" y=\"-215.8\" font-family=\"Helvetica,sans-Serif\" font-size=\"14.00\" fill=\"#000000\">samples = 226</text>\n",
       "<text text-anchor=\"middle\" x=\"349.5\" y=\"-200.8\" font-family=\"Helvetica,sans-Serif\" font-size=\"14.00\" fill=\"#000000\">value = [225, 1]</text>\n",
       "</g>\n",
       "<!-- 4&#45;&gt;8 -->\n",
       "<g id=\"edge8\" class=\"edge\">\n",
       "<title>4&#45;&gt;8</title>\n",
       "<path fill=\"none\" stroke=\"#000000\" d=\"M349.5,-296.9465C349.5,-288.776 349.5,-279.9318 349.5,-271.3697\"/>\n",
       "<polygon fill=\"#000000\" stroke=\"#000000\" points=\"353.0001,-271.13 349.5,-261.13 346.0001,-271.13 353.0001,-271.13\"/>\n",
       "</g>\n",
       "<!-- 6 -->\n",
       "<g id=\"node7\" class=\"node\">\n",
       "<title>6</title>\n",
       "<path fill=\"#e58139\" stroke=\"#000000\" d=\"M85,-149.5C85,-149.5 12,-149.5 12,-149.5 6,-149.5 0,-143.5 0,-137.5 0,-137.5 0,-108.5 0,-108.5 0,-102.5 6,-96.5 12,-96.5 12,-96.5 85,-96.5 85,-96.5 91,-96.5 97,-102.5 97,-108.5 97,-108.5 97,-137.5 97,-137.5 97,-143.5 91,-149.5 85,-149.5\"/>\n",
       "<text text-anchor=\"middle\" x=\"48.5\" y=\"-134.3\" font-family=\"Helvetica,sans-Serif\" font-size=\"14.00\" fill=\"#000000\">gini = 0.0</text>\n",
       "<text text-anchor=\"middle\" x=\"48.5\" y=\"-119.3\" font-family=\"Helvetica,sans-Serif\" font-size=\"14.00\" fill=\"#000000\">samples = 3</text>\n",
       "<text text-anchor=\"middle\" x=\"48.5\" y=\"-104.3\" font-family=\"Helvetica,sans-Serif\" font-size=\"14.00\" fill=\"#000000\">value = [3, 0]</text>\n",
       "</g>\n",
       "<!-- 5&#45;&gt;6 -->\n",
       "<g id=\"edge6\" class=\"edge\">\n",
       "<title>5&#45;&gt;6</title>\n",
       "<path fill=\"none\" stroke=\"#000000\" d=\"M111.7209,-192.9465C101.3669,-181.491 89.8158,-168.711 79.4487,-157.2412\"/>\n",
       "<polygon fill=\"#000000\" stroke=\"#000000\" points=\"81.792,-154.614 72.49,-149.5422 76.5989,-159.3078 81.792,-154.614\"/>\n",
       "</g>\n",
       "<!-- 7 -->\n",
       "<g id=\"node8\" class=\"node\">\n",
       "<title>7</title>\n",
       "<path fill=\"#399de5\" stroke=\"#000000\" d=\"M200,-149.5C200,-149.5 127,-149.5 127,-149.5 121,-149.5 115,-143.5 115,-137.5 115,-137.5 115,-108.5 115,-108.5 115,-102.5 121,-96.5 127,-96.5 127,-96.5 200,-96.5 200,-96.5 206,-96.5 212,-102.5 212,-108.5 212,-108.5 212,-137.5 212,-137.5 212,-143.5 206,-149.5 200,-149.5\"/>\n",
       "<text text-anchor=\"middle\" x=\"163.5\" y=\"-134.3\" font-family=\"Helvetica,sans-Serif\" font-size=\"14.00\" fill=\"#000000\">gini = 0.0</text>\n",
       "<text text-anchor=\"middle\" x=\"163.5\" y=\"-119.3\" font-family=\"Helvetica,sans-Serif\" font-size=\"14.00\" fill=\"#000000\">samples = 1</text>\n",
       "<text text-anchor=\"middle\" x=\"163.5\" y=\"-104.3\" font-family=\"Helvetica,sans-Serif\" font-size=\"14.00\" fill=\"#000000\">value = [0, 1]</text>\n",
       "</g>\n",
       "<!-- 5&#45;&gt;7 -->\n",
       "<g id=\"edge7\" class=\"edge\">\n",
       "<title>5&#45;&gt;7</title>\n",
       "<path fill=\"none\" stroke=\"#000000\" d=\"M149.3762,-192.9465C151.5336,-182.2621 153.9237,-170.4254 156.1148,-159.5742\"/>\n",
       "<polygon fill=\"#000000\" stroke=\"#000000\" points=\"159.5919,-160.0371 158.1405,-149.5422 152.7304,-158.6516 159.5919,-160.0371\"/>\n",
       "</g>\n",
       "<!-- 9 -->\n",
       "<g id=\"node10\" class=\"node\">\n",
       "<title>9</title>\n",
       "<path fill=\"#e58139\" stroke=\"#000000\" d=\"M373,-149.5C373,-149.5 284,-149.5 284,-149.5 278,-149.5 272,-143.5 272,-137.5 272,-137.5 272,-108.5 272,-108.5 272,-102.5 278,-96.5 284,-96.5 284,-96.5 373,-96.5 373,-96.5 379,-96.5 385,-102.5 385,-108.5 385,-108.5 385,-137.5 385,-137.5 385,-143.5 379,-149.5 373,-149.5\"/>\n",
       "<text text-anchor=\"middle\" x=\"328.5\" y=\"-134.3\" font-family=\"Helvetica,sans-Serif\" font-size=\"14.00\" fill=\"#000000\">gini = 0.0</text>\n",
       "<text text-anchor=\"middle\" x=\"328.5\" y=\"-119.3\" font-family=\"Helvetica,sans-Serif\" font-size=\"14.00\" fill=\"#000000\">samples = 214</text>\n",
       "<text text-anchor=\"middle\" x=\"328.5\" y=\"-104.3\" font-family=\"Helvetica,sans-Serif\" font-size=\"14.00\" fill=\"#000000\">value = [214, 0]</text>\n",
       "</g>\n",
       "<!-- 8&#45;&gt;9 -->\n",
       "<g id=\"edge9\" class=\"edge\">\n",
       "<title>8&#45;&gt;9</title>\n",
       "<path fill=\"none\" stroke=\"#000000\" d=\"M342.6238,-192.9465C340.4664,-182.2621 338.0763,-170.4254 335.8852,-159.5742\"/>\n",
       "<polygon fill=\"#000000\" stroke=\"#000000\" points=\"339.2696,-158.6516 333.8595,-149.5422 332.4081,-160.0371 339.2696,-158.6516\"/>\n",
       "</g>\n",
       "<!-- 10 -->\n",
       "<g id=\"node11\" class=\"node\">\n",
       "<title>10</title>\n",
       "<path fill=\"#e58139\" fill-opacity=\"0.909804\" stroke=\"#000000\" d=\"M520,-157C520,-157 415,-157 415,-157 409,-157 403,-151 403,-145 403,-145 403,-101 403,-101 403,-95 409,-89 415,-89 415,-89 520,-89 520,-89 526,-89 532,-95 532,-101 532,-101 532,-145 532,-145 532,-151 526,-157 520,-157\"/>\n",
       "<text text-anchor=\"middle\" x=\"467.5\" y=\"-141.8\" font-family=\"Helvetica,sans-Serif\" font-size=\"14.00\" fill=\"#000000\">radius_s &lt;= 1.093</text>\n",
       "<text text-anchor=\"middle\" x=\"467.5\" y=\"-126.8\" font-family=\"Helvetica,sans-Serif\" font-size=\"14.00\" fill=\"#000000\">gini = 0.153</text>\n",
       "<text text-anchor=\"middle\" x=\"467.5\" y=\"-111.8\" font-family=\"Helvetica,sans-Serif\" font-size=\"14.00\" fill=\"#000000\">samples = 12</text>\n",
       "<text text-anchor=\"middle\" x=\"467.5\" y=\"-96.8\" font-family=\"Helvetica,sans-Serif\" font-size=\"14.00\" fill=\"#000000\">value = [11, 1]</text>\n",
       "</g>\n",
       "<!-- 8&#45;&gt;10 -->\n",
       "<g id=\"edge10\" class=\"edge\">\n",
       "<title>8&#45;&gt;10</title>\n",
       "<path fill=\"none\" stroke=\"#000000\" d=\"M388.1376,-192.9465C398.6304,-183.6986 410.1026,-173.5876 420.9814,-163.9994\"/>\n",
       "<polygon fill=\"#000000\" stroke=\"#000000\" points=\"423.5877,-166.3678 428.7756,-157.13 418.9593,-161.1163 423.5877,-166.3678\"/>\n",
       "</g>\n",
       "<!-- 11 -->\n",
       "<g id=\"node12\" class=\"node\">\n",
       "<title>11</title>\n",
       "<path fill=\"#399de5\" stroke=\"#000000\" d=\"M444,-53C444,-53 371,-53 371,-53 365,-53 359,-47 359,-41 359,-41 359,-12 359,-12 359,-6 365,0 371,0 371,0 444,0 444,0 450,0 456,-6 456,-12 456,-12 456,-41 456,-41 456,-47 450,-53 444,-53\"/>\n",
       "<text text-anchor=\"middle\" x=\"407.5\" y=\"-37.8\" font-family=\"Helvetica,sans-Serif\" font-size=\"14.00\" fill=\"#000000\">gini = 0.0</text>\n",
       "<text text-anchor=\"middle\" x=\"407.5\" y=\"-22.8\" font-family=\"Helvetica,sans-Serif\" font-size=\"14.00\" fill=\"#000000\">samples = 1</text>\n",
       "<text text-anchor=\"middle\" x=\"407.5\" y=\"-7.8\" font-family=\"Helvetica,sans-Serif\" font-size=\"14.00\" fill=\"#000000\">value = [0, 1]</text>\n",
       "</g>\n",
       "<!-- 10&#45;&gt;11 -->\n",
       "<g id=\"edge11\" class=\"edge\">\n",
       "<title>10&#45;&gt;11</title>\n",
       "<path fill=\"none\" stroke=\"#000000\" d=\"M446.3462,-88.9777C440.8805,-80.187 434.9846,-70.7044 429.4778,-61.8477\"/>\n",
       "<polygon fill=\"#000000\" stroke=\"#000000\" points=\"432.3837,-59.8927 424.1312,-53.2485 426.4391,-63.5889 432.3837,-59.8927\"/>\n",
       "</g>\n",
       "<!-- 12 -->\n",
       "<g id=\"node13\" class=\"node\">\n",
       "<title>12</title>\n",
       "<path fill=\"#e58139\" stroke=\"#000000\" d=\"M567,-53C567,-53 486,-53 486,-53 480,-53 474,-47 474,-41 474,-41 474,-12 474,-12 474,-6 480,0 486,0 486,0 567,0 567,0 573,0 579,-6 579,-12 579,-12 579,-41 579,-41 579,-47 573,-53 567,-53\"/>\n",
       "<text text-anchor=\"middle\" x=\"526.5\" y=\"-37.8\" font-family=\"Helvetica,sans-Serif\" font-size=\"14.00\" fill=\"#000000\">gini = 0.0</text>\n",
       "<text text-anchor=\"middle\" x=\"526.5\" y=\"-22.8\" font-family=\"Helvetica,sans-Serif\" font-size=\"14.00\" fill=\"#000000\">samples = 11</text>\n",
       "<text text-anchor=\"middle\" x=\"526.5\" y=\"-7.8\" font-family=\"Helvetica,sans-Serif\" font-size=\"14.00\" fill=\"#000000\">value = [11, 0]</text>\n",
       "</g>\n",
       "<!-- 10&#45;&gt;12 -->\n",
       "<g id=\"edge12\" class=\"edge\">\n",
       "<title>10&#45;&gt;12</title>\n",
       "<path fill=\"none\" stroke=\"#000000\" d=\"M488.3012,-88.9777C493.6758,-80.187 499.4735,-70.7044 504.8885,-61.8477\"/>\n",
       "<polygon fill=\"#000000\" stroke=\"#000000\" points=\"507.9158,-63.6059 510.146,-53.2485 501.9436,-59.9545 507.9158,-63.6059\"/>\n",
       "</g>\n",
       "<!-- 14 -->\n",
       "<g id=\"node15\" class=\"node\">\n",
       "<title>14</title>\n",
       "<path fill=\"#e58139\" stroke=\"#000000\" d=\"M547,-253.5C547,-253.5 474,-253.5 474,-253.5 468,-253.5 462,-247.5 462,-241.5 462,-241.5 462,-212.5 462,-212.5 462,-206.5 468,-200.5 474,-200.5 474,-200.5 547,-200.5 547,-200.5 553,-200.5 559,-206.5 559,-212.5 559,-212.5 559,-241.5 559,-241.5 559,-247.5 553,-253.5 547,-253.5\"/>\n",
       "<text text-anchor=\"middle\" x=\"510.5\" y=\"-238.3\" font-family=\"Helvetica,sans-Serif\" font-size=\"14.00\" fill=\"#000000\">gini = 0.0</text>\n",
       "<text text-anchor=\"middle\" x=\"510.5\" y=\"-223.3\" font-family=\"Helvetica,sans-Serif\" font-size=\"14.00\" fill=\"#000000\">samples = 2</text>\n",
       "<text text-anchor=\"middle\" x=\"510.5\" y=\"-208.3\" font-family=\"Helvetica,sans-Serif\" font-size=\"14.00\" fill=\"#000000\">value = [2, 0]</text>\n",
       "</g>\n",
       "<!-- 13&#45;&gt;14 -->\n",
       "<g id=\"edge14\" class=\"edge\">\n",
       "<title>13&#45;&gt;14</title>\n",
       "<path fill=\"none\" stroke=\"#000000\" d=\"M510.5,-296.9465C510.5,-286.2621 510.5,-274.4254 510.5,-263.5742\"/>\n",
       "<polygon fill=\"#000000\" stroke=\"#000000\" points=\"514.0001,-263.5421 510.5,-253.5422 507.0001,-263.5422 514.0001,-263.5421\"/>\n",
       "</g>\n",
       "<!-- 15 -->\n",
       "<g id=\"node16\" class=\"node\">\n",
       "<title>15</title>\n",
       "<path fill=\"#399de5\" stroke=\"#000000\" d=\"M662,-253.5C662,-253.5 589,-253.5 589,-253.5 583,-253.5 577,-247.5 577,-241.5 577,-241.5 577,-212.5 577,-212.5 577,-206.5 583,-200.5 589,-200.5 589,-200.5 662,-200.5 662,-200.5 668,-200.5 674,-206.5 674,-212.5 674,-212.5 674,-241.5 674,-241.5 674,-247.5 668,-253.5 662,-253.5\"/>\n",
       "<text text-anchor=\"middle\" x=\"625.5\" y=\"-238.3\" font-family=\"Helvetica,sans-Serif\" font-size=\"14.00\" fill=\"#000000\">gini = 0.0</text>\n",
       "<text text-anchor=\"middle\" x=\"625.5\" y=\"-223.3\" font-family=\"Helvetica,sans-Serif\" font-size=\"14.00\" fill=\"#000000\">samples = 1</text>\n",
       "<text text-anchor=\"middle\" x=\"625.5\" y=\"-208.3\" font-family=\"Helvetica,sans-Serif\" font-size=\"14.00\" fill=\"#000000\">value = [0, 1]</text>\n",
       "</g>\n",
       "<!-- 13&#45;&gt;15 -->\n",
       "<g id=\"edge15\" class=\"edge\">\n",
       "<title>13&#45;&gt;15</title>\n",
       "<path fill=\"none\" stroke=\"#000000\" d=\"M548.1553,-296.9465C561.1878,-285.1606 575.7706,-271.9726 588.7311,-260.2519\"/>\n",
       "<polygon fill=\"#000000\" stroke=\"#000000\" points=\"591.0812,-262.8456 596.1505,-253.5422 586.386,-257.6537 591.0812,-262.8456\"/>\n",
       "</g>\n",
       "<!-- 17 -->\n",
       "<g id=\"node18\" class=\"node\">\n",
       "<title>17</title>\n",
       "<path fill=\"#e58139\" stroke=\"#000000\" d=\"M692,-357.5C692,-357.5 619,-357.5 619,-357.5 613,-357.5 607,-351.5 607,-345.5 607,-345.5 607,-316.5 607,-316.5 607,-310.5 613,-304.5 619,-304.5 619,-304.5 692,-304.5 692,-304.5 698,-304.5 704,-310.5 704,-316.5 704,-316.5 704,-345.5 704,-345.5 704,-351.5 698,-357.5 692,-357.5\"/>\n",
       "<text text-anchor=\"middle\" x=\"655.5\" y=\"-342.3\" font-family=\"Helvetica,sans-Serif\" font-size=\"14.00\" fill=\"#000000\">gini = 0.0</text>\n",
       "<text text-anchor=\"middle\" x=\"655.5\" y=\"-327.3\" font-family=\"Helvetica,sans-Serif\" font-size=\"14.00\" fill=\"#000000\">samples = 1</text>\n",
       "<text text-anchor=\"middle\" x=\"655.5\" y=\"-312.3\" font-family=\"Helvetica,sans-Serif\" font-size=\"14.00\" fill=\"#000000\">value = [1, 0]</text>\n",
       "</g>\n",
       "<!-- 16&#45;&gt;17 -->\n",
       "<g id=\"edge17\" class=\"edge\">\n",
       "<title>16&#45;&gt;17</title>\n",
       "<path fill=\"none\" stroke=\"#000000\" d=\"M660.8805,-400.9465C660.0586,-390.2621 659.1481,-378.4254 658.3134,-367.5742\"/>\n",
       "<polygon fill=\"#000000\" stroke=\"#000000\" points=\"661.7985,-367.2442 657.5417,-357.5422 654.8191,-367.7812 661.7985,-367.2442\"/>\n",
       "</g>\n",
       "<!-- 18 -->\n",
       "<g id=\"node19\" class=\"node\">\n",
       "<title>18</title>\n",
       "<path fill=\"#399de5\" stroke=\"#000000\" d=\"M807,-357.5C807,-357.5 734,-357.5 734,-357.5 728,-357.5 722,-351.5 722,-345.5 722,-345.5 722,-316.5 722,-316.5 722,-310.5 728,-304.5 734,-304.5 734,-304.5 807,-304.5 807,-304.5 813,-304.5 819,-310.5 819,-316.5 819,-316.5 819,-345.5 819,-345.5 819,-351.5 813,-357.5 807,-357.5\"/>\n",
       "<text text-anchor=\"middle\" x=\"770.5\" y=\"-342.3\" font-family=\"Helvetica,sans-Serif\" font-size=\"14.00\" fill=\"#000000\">gini = 0.0</text>\n",
       "<text text-anchor=\"middle\" x=\"770.5\" y=\"-327.3\" font-family=\"Helvetica,sans-Serif\" font-size=\"14.00\" fill=\"#000000\">samples = 1</text>\n",
       "<text text-anchor=\"middle\" x=\"770.5\" y=\"-312.3\" font-family=\"Helvetica,sans-Serif\" font-size=\"14.00\" fill=\"#000000\">value = [0, 1]</text>\n",
       "</g>\n",
       "<!-- 16&#45;&gt;18 -->\n",
       "<g id=\"edge18\" class=\"edge\">\n",
       "<title>16&#45;&gt;18</title>\n",
       "<path fill=\"none\" stroke=\"#000000\" d=\"M698.5358,-400.9465C710.5484,-389.2707 723.9766,-376.219 735.9504,-364.5809\"/>\n",
       "<polygon fill=\"#000000\" stroke=\"#000000\" points=\"738.4607,-367.0218 743.1922,-357.5422 733.5818,-362.0022 738.4607,-367.0218\"/>\n",
       "</g>\n",
       "<!-- 20 -->\n",
       "<g id=\"node21\" class=\"node\">\n",
       "<title>20</title>\n",
       "<path fill=\"#e58139\" stroke=\"#000000\" d=\"M828,-461.5C828,-461.5 755,-461.5 755,-461.5 749,-461.5 743,-455.5 743,-449.5 743,-449.5 743,-420.5 743,-420.5 743,-414.5 749,-408.5 755,-408.5 755,-408.5 828,-408.5 828,-408.5 834,-408.5 840,-414.5 840,-420.5 840,-420.5 840,-449.5 840,-449.5 840,-455.5 834,-461.5 828,-461.5\"/>\n",
       "<text text-anchor=\"middle\" x=\"791.5\" y=\"-446.3\" font-family=\"Helvetica,sans-Serif\" font-size=\"14.00\" fill=\"#000000\">gini = 0.0</text>\n",
       "<text text-anchor=\"middle\" x=\"791.5\" y=\"-431.3\" font-family=\"Helvetica,sans-Serif\" font-size=\"14.00\" fill=\"#000000\">samples = 3</text>\n",
       "<text text-anchor=\"middle\" x=\"791.5\" y=\"-416.3\" font-family=\"Helvetica,sans-Serif\" font-size=\"14.00\" fill=\"#000000\">value = [3, 0]</text>\n",
       "</g>\n",
       "<!-- 19&#45;&gt;20 -->\n",
       "<g id=\"edge20\" class=\"edge\">\n",
       "<title>19&#45;&gt;20</title>\n",
       "<path fill=\"none\" stroke=\"#000000\" d=\"M852.0306,-504.9465C842.1172,-493.491 831.0576,-480.711 821.1318,-469.2412\"/>\n",
       "<polygon fill=\"#000000\" stroke=\"#000000\" points=\"823.6596,-466.8135 814.4692,-461.5422 818.3664,-471.3942 823.6596,-466.8135\"/>\n",
       "</g>\n",
       "<!-- 21 -->\n",
       "<g id=\"node22\" class=\"node\">\n",
       "<title>21</title>\n",
       "<path fill=\"#399de5\" stroke=\"#000000\" d=\"M943,-461.5C943,-461.5 870,-461.5 870,-461.5 864,-461.5 858,-455.5 858,-449.5 858,-449.5 858,-420.5 858,-420.5 858,-414.5 864,-408.5 870,-408.5 870,-408.5 943,-408.5 943,-408.5 949,-408.5 955,-414.5 955,-420.5 955,-420.5 955,-449.5 955,-449.5 955,-455.5 949,-461.5 943,-461.5\"/>\n",
       "<text text-anchor=\"middle\" x=\"906.5\" y=\"-446.3\" font-family=\"Helvetica,sans-Serif\" font-size=\"14.00\" fill=\"#000000\">gini = 0.0</text>\n",
       "<text text-anchor=\"middle\" x=\"906.5\" y=\"-431.3\" font-family=\"Helvetica,sans-Serif\" font-size=\"14.00\" fill=\"#000000\">samples = 8</text>\n",
       "<text text-anchor=\"middle\" x=\"906.5\" y=\"-416.3\" font-family=\"Helvetica,sans-Serif\" font-size=\"14.00\" fill=\"#000000\">value = [0, 8]</text>\n",
       "</g>\n",
       "<!-- 19&#45;&gt;21 -->\n",
       "<g id=\"edge21\" class=\"edge\">\n",
       "<title>19&#45;&gt;21</title>\n",
       "<path fill=\"none\" stroke=\"#000000\" d=\"M889.6859,-504.9465C892.2543,-494.2621 895.0997,-482.4254 897.7081,-471.5742\"/>\n",
       "<polygon fill=\"#000000\" stroke=\"#000000\" points=\"901.1854,-472.0833 900.1197,-461.5422 894.3793,-470.4471 901.1854,-472.0833\"/>\n",
       "</g>\n",
       "<!-- 23 -->\n",
       "<g id=\"node24\" class=\"node\">\n",
       "<title>23</title>\n",
       "<path fill=\"#399de5\" fill-opacity=\"0.211765\" stroke=\"#000000\" d=\"M1196,-573C1196,-573 1087,-573 1087,-573 1081,-573 1075,-567 1075,-561 1075,-561 1075,-517 1075,-517 1075,-511 1081,-505 1087,-505 1087,-505 1196,-505 1196,-505 1202,-505 1208,-511 1208,-517 1208,-517 1208,-561 1208,-561 1208,-567 1202,-573 1196,-573\"/>\n",
       "<text text-anchor=\"middle\" x=\"1141.5\" y=\"-557.8\" font-family=\"Helvetica,sans-Serif\" font-size=\"14.00\" fill=\"#000000\">radius_s &lt;= &#45;0.549</text>\n",
       "<text text-anchor=\"middle\" x=\"1141.5\" y=\"-542.8\" font-family=\"Helvetica,sans-Serif\" font-size=\"14.00\" fill=\"#000000\">gini = 0.493</text>\n",
       "<text text-anchor=\"middle\" x=\"1141.5\" y=\"-527.8\" font-family=\"Helvetica,sans-Serif\" font-size=\"14.00\" fill=\"#000000\">samples = 34</text>\n",
       "<text text-anchor=\"middle\" x=\"1141.5\" y=\"-512.8\" font-family=\"Helvetica,sans-Serif\" font-size=\"14.00\" fill=\"#000000\">value = [15, 19]</text>\n",
       "</g>\n",
       "<!-- 22&#45;&gt;23 -->\n",
       "<g id=\"edge23\" class=\"edge\">\n",
       "<title>22&#45;&gt;23</title>\n",
       "<path fill=\"none\" stroke=\"#000000\" d=\"M1141.5,-608.9465C1141.5,-600.776 1141.5,-591.9318 1141.5,-583.3697\"/>\n",
       "<polygon fill=\"#000000\" stroke=\"#000000\" points=\"1145.0001,-583.13 1141.5,-573.13 1138.0001,-583.13 1145.0001,-583.13\"/>\n",
       "</g>\n",
       "<!-- 34 -->\n",
       "<g id=\"node35\" class=\"node\">\n",
       "<title>34</title>\n",
       "<path fill=\"#399de5\" fill-opacity=\"0.992157\" stroke=\"#000000\" d=\"M1403,-573C1403,-573 1278,-573 1278,-573 1272,-573 1266,-567 1266,-561 1266,-561 1266,-517 1266,-517 1266,-511 1272,-505 1278,-505 1278,-505 1403,-505 1403,-505 1409,-505 1415,-511 1415,-517 1415,-517 1415,-561 1415,-561 1415,-567 1409,-573 1403,-573\"/>\n",
       "<text text-anchor=\"middle\" x=\"1340.5\" y=\"-557.8\" font-family=\"Helvetica,sans-Serif\" font-size=\"14.00\" fill=\"#000000\">concavity_s &lt;= 3.474</text>\n",
       "<text text-anchor=\"middle\" x=\"1340.5\" y=\"-542.8\" font-family=\"Helvetica,sans-Serif\" font-size=\"14.00\" fill=\"#000000\">gini = 0.017</text>\n",
       "<text text-anchor=\"middle\" x=\"1340.5\" y=\"-527.8\" font-family=\"Helvetica,sans-Serif\" font-size=\"14.00\" fill=\"#000000\">samples = 118</text>\n",
       "<text text-anchor=\"middle\" x=\"1340.5\" y=\"-512.8\" font-family=\"Helvetica,sans-Serif\" font-size=\"14.00\" fill=\"#000000\">value = [1, 117]</text>\n",
       "</g>\n",
       "<!-- 22&#45;&gt;34 -->\n",
       "<g id=\"edge34\" class=\"edge\">\n",
       "<title>22&#45;&gt;34</title>\n",
       "<path fill=\"none\" stroke=\"#000000\" d=\"M1206.66,-608.9465C1225.7299,-598.9803 1246.718,-588.0117 1266.3048,-577.7754\"/>\n",
       "<polygon fill=\"#000000\" stroke=\"#000000\" points=\"1267.952,-580.8637 1275.1936,-573.13 1264.7098,-574.6599 1267.952,-580.8637\"/>\n",
       "</g>\n",
       "<!-- 24 -->\n",
       "<g id=\"node25\" class=\"node\">\n",
       "<title>24</title>\n",
       "<path fill=\"#e58139\" fill-opacity=\"0.901961\" stroke=\"#000000\" d=\"M1085.5,-469C1085.5,-469 985.5,-469 985.5,-469 979.5,-469 973.5,-463 973.5,-457 973.5,-457 973.5,-413 973.5,-413 973.5,-407 979.5,-401 985.5,-401 985.5,-401 1085.5,-401 1085.5,-401 1091.5,-401 1097.5,-407 1097.5,-413 1097.5,-413 1097.5,-457 1097.5,-457 1097.5,-463 1091.5,-469 1085.5,-469\"/>\n",
       "<text text-anchor=\"middle\" x=\"1035.5\" y=\"-453.8\" font-family=\"Helvetica,sans-Serif\" font-size=\"14.00\" fill=\"#000000\">radius_w &lt;= 0.06</text>\n",
       "<text text-anchor=\"middle\" x=\"1035.5\" y=\"-438.8\" font-family=\"Helvetica,sans-Serif\" font-size=\"14.00\" fill=\"#000000\">gini = 0.165</text>\n",
       "<text text-anchor=\"middle\" x=\"1035.5\" y=\"-423.8\" font-family=\"Helvetica,sans-Serif\" font-size=\"14.00\" fill=\"#000000\">samples = 11</text>\n",
       "<text text-anchor=\"middle\" x=\"1035.5\" y=\"-408.8\" font-family=\"Helvetica,sans-Serif\" font-size=\"14.00\" fill=\"#000000\">value = [10, 1]</text>\n",
       "</g>\n",
       "<!-- 23&#45;&gt;24 -->\n",
       "<g id=\"edge24\" class=\"edge\">\n",
       "<title>23&#45;&gt;24</title>\n",
       "<path fill=\"none\" stroke=\"#000000\" d=\"M1106.7916,-504.9465C1097.4574,-495.7884 1087.2604,-485.7838 1077.5727,-476.2788\"/>\n",
       "<polygon fill=\"#000000\" stroke=\"#000000\" points=\"1079.8757,-473.6351 1070.2863,-469.13 1074.9733,-478.6318 1079.8757,-473.6351\"/>\n",
       "</g>\n",
       "<!-- 27 -->\n",
       "<g id=\"node28\" class=\"node\">\n",
       "<title>27</title>\n",
       "<path fill=\"#399de5\" fill-opacity=\"0.721569\" stroke=\"#000000\" d=\"M1253.5,-469C1253.5,-469 1127.5,-469 1127.5,-469 1121.5,-469 1115.5,-463 1115.5,-457 1115.5,-457 1115.5,-413 1115.5,-413 1115.5,-407 1121.5,-401 1127.5,-401 1127.5,-401 1253.5,-401 1253.5,-401 1259.5,-401 1265.5,-407 1265.5,-413 1265.5,-413 1265.5,-457 1265.5,-457 1265.5,-463 1259.5,-469 1253.5,-469\"/>\n",
       "<text text-anchor=\"middle\" x=\"1190.5\" y=\"-453.8\" font-family=\"Helvetica,sans-Serif\" font-size=\"14.00\" fill=\"#000000\">perimeter_w &lt;= &#45;1.07</text>\n",
       "<text text-anchor=\"middle\" x=\"1190.5\" y=\"-438.8\" font-family=\"Helvetica,sans-Serif\" font-size=\"14.00\" fill=\"#000000\">gini = 0.34</text>\n",
       "<text text-anchor=\"middle\" x=\"1190.5\" y=\"-423.8\" font-family=\"Helvetica,sans-Serif\" font-size=\"14.00\" fill=\"#000000\">samples = 23</text>\n",
       "<text text-anchor=\"middle\" x=\"1190.5\" y=\"-408.8\" font-family=\"Helvetica,sans-Serif\" font-size=\"14.00\" fill=\"#000000\">value = [5, 18]</text>\n",
       "</g>\n",
       "<!-- 23&#45;&gt;27 -->\n",
       "<g id=\"edge27\" class=\"edge\">\n",
       "<title>23&#45;&gt;27</title>\n",
       "<path fill=\"none\" stroke=\"#000000\" d=\"M1157.5444,-504.9465C1161.5632,-496.4169 1165.9279,-487.153 1170.1262,-478.2424\"/>\n",
       "<polygon fill=\"#000000\" stroke=\"#000000\" points=\"1173.3235,-479.668 1174.4195,-469.13 1166.9911,-476.6844 1173.3235,-479.668\"/>\n",
       "</g>\n",
       "<!-- 25 -->\n",
       "<g id=\"node26\" class=\"node\">\n",
       "<title>25</title>\n",
       "<path fill=\"#399de5\" stroke=\"#000000\" d=\"M962,-357.5C962,-357.5 889,-357.5 889,-357.5 883,-357.5 877,-351.5 877,-345.5 877,-345.5 877,-316.5 877,-316.5 877,-310.5 883,-304.5 889,-304.5 889,-304.5 962,-304.5 962,-304.5 968,-304.5 974,-310.5 974,-316.5 974,-316.5 974,-345.5 974,-345.5 974,-351.5 968,-357.5 962,-357.5\"/>\n",
       "<text text-anchor=\"middle\" x=\"925.5\" y=\"-342.3\" font-family=\"Helvetica,sans-Serif\" font-size=\"14.00\" fill=\"#000000\">gini = 0.0</text>\n",
       "<text text-anchor=\"middle\" x=\"925.5\" y=\"-327.3\" font-family=\"Helvetica,sans-Serif\" font-size=\"14.00\" fill=\"#000000\">samples = 1</text>\n",
       "<text text-anchor=\"middle\" x=\"925.5\" y=\"-312.3\" font-family=\"Helvetica,sans-Serif\" font-size=\"14.00\" fill=\"#000000\">value = [0, 1]</text>\n",
       "</g>\n",
       "<!-- 24&#45;&gt;25 -->\n",
       "<g id=\"edge25\" class=\"edge\">\n",
       "<title>24&#45;&gt;25</title>\n",
       "<path fill=\"none\" stroke=\"#000000\" d=\"M999.4819,-400.9465C987.1325,-389.2707 973.3278,-376.219 961.0183,-364.5809\"/>\n",
       "<polygon fill=\"#000000\" stroke=\"#000000\" points=\"963.2445,-361.869 953.5734,-357.5422 958.4354,-366.9556 963.2445,-361.869\"/>\n",
       "</g>\n",
       "<!-- 26 -->\n",
       "<g id=\"node27\" class=\"node\">\n",
       "<title>26</title>\n",
       "<path fill=\"#e58139\" stroke=\"#000000\" d=\"M1085,-357.5C1085,-357.5 1004,-357.5 1004,-357.5 998,-357.5 992,-351.5 992,-345.5 992,-345.5 992,-316.5 992,-316.5 992,-310.5 998,-304.5 1004,-304.5 1004,-304.5 1085,-304.5 1085,-304.5 1091,-304.5 1097,-310.5 1097,-316.5 1097,-316.5 1097,-345.5 1097,-345.5 1097,-351.5 1091,-357.5 1085,-357.5\"/>\n",
       "<text text-anchor=\"middle\" x=\"1044.5\" y=\"-342.3\" font-family=\"Helvetica,sans-Serif\" font-size=\"14.00\" fill=\"#000000\">gini = 0.0</text>\n",
       "<text text-anchor=\"middle\" x=\"1044.5\" y=\"-327.3\" font-family=\"Helvetica,sans-Serif\" font-size=\"14.00\" fill=\"#000000\">samples = 10</text>\n",
       "<text text-anchor=\"middle\" x=\"1044.5\" y=\"-312.3\" font-family=\"Helvetica,sans-Serif\" font-size=\"14.00\" fill=\"#000000\">value = [10, 0]</text>\n",
       "</g>\n",
       "<!-- 24&#45;&gt;26 -->\n",
       "<g id=\"edge26\" class=\"edge\">\n",
       "<title>24&#45;&gt;26</title>\n",
       "<path fill=\"none\" stroke=\"#000000\" d=\"M1038.4469,-400.9465C1039.3716,-390.2621 1040.3959,-378.4254 1041.3349,-367.5742\"/>\n",
       "<polygon fill=\"#000000\" stroke=\"#000000\" points=\"1044.8278,-367.8067 1042.2031,-357.5422 1037.8539,-367.2031 1044.8278,-367.8067\"/>\n",
       "</g>\n",
       "<!-- 28 -->\n",
       "<g id=\"node29\" class=\"node\">\n",
       "<title>28</title>\n",
       "<path fill=\"#e58139\" stroke=\"#000000\" d=\"M1218,-357.5C1218,-357.5 1145,-357.5 1145,-357.5 1139,-357.5 1133,-351.5 1133,-345.5 1133,-345.5 1133,-316.5 1133,-316.5 1133,-310.5 1139,-304.5 1145,-304.5 1145,-304.5 1218,-304.5 1218,-304.5 1224,-304.5 1230,-310.5 1230,-316.5 1230,-316.5 1230,-345.5 1230,-345.5 1230,-351.5 1224,-357.5 1218,-357.5\"/>\n",
       "<text text-anchor=\"middle\" x=\"1181.5\" y=\"-342.3\" font-family=\"Helvetica,sans-Serif\" font-size=\"14.00\" fill=\"#000000\">gini = 0.0</text>\n",
       "<text text-anchor=\"middle\" x=\"1181.5\" y=\"-327.3\" font-family=\"Helvetica,sans-Serif\" font-size=\"14.00\" fill=\"#000000\">samples = 2</text>\n",
       "<text text-anchor=\"middle\" x=\"1181.5\" y=\"-312.3\" font-family=\"Helvetica,sans-Serif\" font-size=\"14.00\" fill=\"#000000\">value = [2, 0]</text>\n",
       "</g>\n",
       "<!-- 27&#45;&gt;28 -->\n",
       "<g id=\"edge28\" class=\"edge\">\n",
       "<title>27&#45;&gt;28</title>\n",
       "<path fill=\"none\" stroke=\"#000000\" d=\"M1187.5531,-400.9465C1186.6284,-390.2621 1185.6041,-378.4254 1184.6651,-367.5742\"/>\n",
       "<polygon fill=\"#000000\" stroke=\"#000000\" points=\"1188.1461,-367.2031 1183.7969,-357.5422 1181.1722,-367.8067 1188.1461,-367.2031\"/>\n",
       "</g>\n",
       "<!-- 29 -->\n",
       "<g id=\"node30\" class=\"node\">\n",
       "<title>29</title>\n",
       "<path fill=\"#399de5\" fill-opacity=\"0.831373\" stroke=\"#000000\" d=\"M1387,-365C1387,-365 1260,-365 1260,-365 1254,-365 1248,-359 1248,-353 1248,-353 1248,-309 1248,-309 1248,-303 1254,-297 1260,-297 1260,-297 1387,-297 1387,-297 1393,-297 1399,-303 1399,-309 1399,-309 1399,-353 1399,-353 1399,-359 1393,-365 1387,-365\"/>\n",
       "<text text-anchor=\"middle\" x=\"1323.5\" y=\"-349.8\" font-family=\"Helvetica,sans-Serif\" font-size=\"14.00\" fill=\"#000000\">symmetry_s &lt;= 0.532</text>\n",
       "<text text-anchor=\"middle\" x=\"1323.5\" y=\"-334.8\" font-family=\"Helvetica,sans-Serif\" font-size=\"14.00\" fill=\"#000000\">gini = 0.245</text>\n",
       "<text text-anchor=\"middle\" x=\"1323.5\" y=\"-319.8\" font-family=\"Helvetica,sans-Serif\" font-size=\"14.00\" fill=\"#000000\">samples = 21</text>\n",
       "<text text-anchor=\"middle\" x=\"1323.5\" y=\"-304.8\" font-family=\"Helvetica,sans-Serif\" font-size=\"14.00\" fill=\"#000000\">value = [3, 18]</text>\n",
       "</g>\n",
       "<!-- 27&#45;&gt;29 -->\n",
       "<g id=\"edge29\" class=\"edge\">\n",
       "<title>27&#45;&gt;29</title>\n",
       "<path fill=\"none\" stroke=\"#000000\" d=\"M1234.0492,-400.9465C1246.1054,-391.519 1259.3089,-381.1946 1271.7816,-371.4415\"/>\n",
       "<polygon fill=\"#000000\" stroke=\"#000000\" points=\"1274.1314,-374.0471 1279.853,-365.13 1269.8194,-368.5328 1274.1314,-374.0471\"/>\n",
       "</g>\n",
       "<!-- 30 -->\n",
       "<g id=\"node31\" class=\"node\">\n",
       "<title>30</title>\n",
       "<path fill=\"#399de5\" fill-opacity=\"0.945098\" stroke=\"#000000\" d=\"M1317.5,-261C1317.5,-261 1181.5,-261 1181.5,-261 1175.5,-261 1169.5,-255 1169.5,-249 1169.5,-249 1169.5,-205 1169.5,-205 1169.5,-199 1175.5,-193 1181.5,-193 1181.5,-193 1317.5,-193 1317.5,-193 1323.5,-193 1329.5,-199 1329.5,-205 1329.5,-205 1329.5,-249 1329.5,-249 1329.5,-255 1323.5,-261 1317.5,-261\"/>\n",
       "<text text-anchor=\"middle\" x=\"1249.5\" y=\"-245.8\" font-family=\"Helvetica,sans-Serif\" font-size=\"14.00\" fill=\"#000000\">symmetry_m &lt;= &#45;1.876</text>\n",
       "<text text-anchor=\"middle\" x=\"1249.5\" y=\"-230.8\" font-family=\"Helvetica,sans-Serif\" font-size=\"14.00\" fill=\"#000000\">gini = 0.1</text>\n",
       "<text text-anchor=\"middle\" x=\"1249.5\" y=\"-215.8\" font-family=\"Helvetica,sans-Serif\" font-size=\"14.00\" fill=\"#000000\">samples = 19</text>\n",
       "<text text-anchor=\"middle\" x=\"1249.5\" y=\"-200.8\" font-family=\"Helvetica,sans-Serif\" font-size=\"14.00\" fill=\"#000000\">value = [1, 18]</text>\n",
       "</g>\n",
       "<!-- 29&#45;&gt;30 -->\n",
       "<g id=\"edge30\" class=\"edge\">\n",
       "<title>29&#45;&gt;30</title>\n",
       "<path fill=\"none\" stroke=\"#000000\" d=\"M1299.2696,-296.9465C1293.0088,-288.1475 1286.192,-278.5672 1279.6687,-269.3993\"/>\n",
       "<polygon fill=\"#000000\" stroke=\"#000000\" points=\"1282.4342,-267.2488 1273.7848,-261.13 1276.7306,-271.3071 1282.4342,-267.2488\"/>\n",
       "</g>\n",
       "<!-- 33 -->\n",
       "<g id=\"node34\" class=\"node\">\n",
       "<title>33</title>\n",
       "<path fill=\"#e58139\" stroke=\"#000000\" d=\"M1433,-253.5C1433,-253.5 1360,-253.5 1360,-253.5 1354,-253.5 1348,-247.5 1348,-241.5 1348,-241.5 1348,-212.5 1348,-212.5 1348,-206.5 1354,-200.5 1360,-200.5 1360,-200.5 1433,-200.5 1433,-200.5 1439,-200.5 1445,-206.5 1445,-212.5 1445,-212.5 1445,-241.5 1445,-241.5 1445,-247.5 1439,-253.5 1433,-253.5\"/>\n",
       "<text text-anchor=\"middle\" x=\"1396.5\" y=\"-238.3\" font-family=\"Helvetica,sans-Serif\" font-size=\"14.00\" fill=\"#000000\">gini = 0.0</text>\n",
       "<text text-anchor=\"middle\" x=\"1396.5\" y=\"-223.3\" font-family=\"Helvetica,sans-Serif\" font-size=\"14.00\" fill=\"#000000\">samples = 2</text>\n",
       "<text text-anchor=\"middle\" x=\"1396.5\" y=\"-208.3\" font-family=\"Helvetica,sans-Serif\" font-size=\"14.00\" fill=\"#000000\">value = [2, 0]</text>\n",
       "</g>\n",
       "<!-- 29&#45;&gt;33 -->\n",
       "<g id=\"edge33\" class=\"edge\">\n",
       "<title>29&#45;&gt;33</title>\n",
       "<path fill=\"none\" stroke=\"#000000\" d=\"M1347.4029,-296.9465C1355.2892,-285.7113 1364.0697,-273.2021 1371.9998,-261.9043\"/>\n",
       "<polygon fill=\"#000000\" stroke=\"#000000\" points=\"1374.9889,-263.7379 1377.8694,-253.5422 1369.2595,-259.7163 1374.9889,-263.7379\"/>\n",
       "</g>\n",
       "<!-- 31 -->\n",
       "<g id=\"node32\" class=\"node\">\n",
       "<title>31</title>\n",
       "<path fill=\"#e58139\" stroke=\"#000000\" d=\"M1226,-149.5C1226,-149.5 1153,-149.5 1153,-149.5 1147,-149.5 1141,-143.5 1141,-137.5 1141,-137.5 1141,-108.5 1141,-108.5 1141,-102.5 1147,-96.5 1153,-96.5 1153,-96.5 1226,-96.5 1226,-96.5 1232,-96.5 1238,-102.5 1238,-108.5 1238,-108.5 1238,-137.5 1238,-137.5 1238,-143.5 1232,-149.5 1226,-149.5\"/>\n",
       "<text text-anchor=\"middle\" x=\"1189.5\" y=\"-134.3\" font-family=\"Helvetica,sans-Serif\" font-size=\"14.00\" fill=\"#000000\">gini = 0.0</text>\n",
       "<text text-anchor=\"middle\" x=\"1189.5\" y=\"-119.3\" font-family=\"Helvetica,sans-Serif\" font-size=\"14.00\" fill=\"#000000\">samples = 1</text>\n",
       "<text text-anchor=\"middle\" x=\"1189.5\" y=\"-104.3\" font-family=\"Helvetica,sans-Serif\" font-size=\"14.00\" fill=\"#000000\">value = [1, 0]</text>\n",
       "</g>\n",
       "<!-- 30&#45;&gt;31 -->\n",
       "<g id=\"edge31\" class=\"edge\">\n",
       "<title>30&#45;&gt;31</title>\n",
       "<path fill=\"none\" stroke=\"#000000\" d=\"M1229.8538,-192.9465C1223.4355,-181.8215 1216.2965,-169.4473 1209.829,-158.237\"/>\n",
       "<polygon fill=\"#000000\" stroke=\"#000000\" points=\"1212.8417,-156.455 1204.8128,-149.5422 1206.7784,-159.9531 1212.8417,-156.455\"/>\n",
       "</g>\n",
       "<!-- 32 -->\n",
       "<g id=\"node33\" class=\"node\">\n",
       "<title>32</title>\n",
       "<path fill=\"#399de5\" stroke=\"#000000\" d=\"M1349,-149.5C1349,-149.5 1268,-149.5 1268,-149.5 1262,-149.5 1256,-143.5 1256,-137.5 1256,-137.5 1256,-108.5 1256,-108.5 1256,-102.5 1262,-96.5 1268,-96.5 1268,-96.5 1349,-96.5 1349,-96.5 1355,-96.5 1361,-102.5 1361,-108.5 1361,-108.5 1361,-137.5 1361,-137.5 1361,-143.5 1355,-149.5 1349,-149.5\"/>\n",
       "<text text-anchor=\"middle\" x=\"1308.5\" y=\"-134.3\" font-family=\"Helvetica,sans-Serif\" font-size=\"14.00\" fill=\"#000000\">gini = 0.0</text>\n",
       "<text text-anchor=\"middle\" x=\"1308.5\" y=\"-119.3\" font-family=\"Helvetica,sans-Serif\" font-size=\"14.00\" fill=\"#000000\">samples = 18</text>\n",
       "<text text-anchor=\"middle\" x=\"1308.5\" y=\"-104.3\" font-family=\"Helvetica,sans-Serif\" font-size=\"14.00\" fill=\"#000000\">value = [0, 18]</text>\n",
       "</g>\n",
       "<!-- 30&#45;&gt;32 -->\n",
       "<g id=\"edge32\" class=\"edge\">\n",
       "<title>30&#45;&gt;32</title>\n",
       "<path fill=\"none\" stroke=\"#000000\" d=\"M1268.8188,-192.9465C1275.0676,-181.9316 1282.0112,-169.6922 1288.3207,-158.5703\"/>\n",
       "<polygon fill=\"#000000\" stroke=\"#000000\" points=\"1291.5523,-159.967 1293.4424,-149.5422 1285.4638,-156.513 1291.5523,-159.967\"/>\n",
       "</g>\n",
       "<!-- 35 -->\n",
       "<g id=\"node36\" class=\"node\">\n",
       "<title>35</title>\n",
       "<path fill=\"#399de5\" stroke=\"#000000\" d=\"M1385,-461.5C1385,-461.5 1296,-461.5 1296,-461.5 1290,-461.5 1284,-455.5 1284,-449.5 1284,-449.5 1284,-420.5 1284,-420.5 1284,-414.5 1290,-408.5 1296,-408.5 1296,-408.5 1385,-408.5 1385,-408.5 1391,-408.5 1397,-414.5 1397,-420.5 1397,-420.5 1397,-449.5 1397,-449.5 1397,-455.5 1391,-461.5 1385,-461.5\"/>\n",
       "<text text-anchor=\"middle\" x=\"1340.5\" y=\"-446.3\" font-family=\"Helvetica,sans-Serif\" font-size=\"14.00\" fill=\"#000000\">gini = 0.0</text>\n",
       "<text text-anchor=\"middle\" x=\"1340.5\" y=\"-431.3\" font-family=\"Helvetica,sans-Serif\" font-size=\"14.00\" fill=\"#000000\">samples = 117</text>\n",
       "<text text-anchor=\"middle\" x=\"1340.5\" y=\"-416.3\" font-family=\"Helvetica,sans-Serif\" font-size=\"14.00\" fill=\"#000000\">value = [0, 117]</text>\n",
       "</g>\n",
       "<!-- 34&#45;&gt;35 -->\n",
       "<g id=\"edge35\" class=\"edge\">\n",
       "<title>34&#45;&gt;35</title>\n",
       "<path fill=\"none\" stroke=\"#000000\" d=\"M1340.5,-504.9465C1340.5,-494.2621 1340.5,-482.4254 1340.5,-471.5742\"/>\n",
       "<polygon fill=\"#000000\" stroke=\"#000000\" points=\"1344.0001,-471.5421 1340.5,-461.5422 1337.0001,-471.5422 1344.0001,-471.5421\"/>\n",
       "</g>\n",
       "<!-- 36 -->\n",
       "<g id=\"node37\" class=\"node\">\n",
       "<title>36</title>\n",
       "<path fill=\"#e58139\" stroke=\"#000000\" d=\"M1500,-461.5C1500,-461.5 1427,-461.5 1427,-461.5 1421,-461.5 1415,-455.5 1415,-449.5 1415,-449.5 1415,-420.5 1415,-420.5 1415,-414.5 1421,-408.5 1427,-408.5 1427,-408.5 1500,-408.5 1500,-408.5 1506,-408.5 1512,-414.5 1512,-420.5 1512,-420.5 1512,-449.5 1512,-449.5 1512,-455.5 1506,-461.5 1500,-461.5\"/>\n",
       "<text text-anchor=\"middle\" x=\"1463.5\" y=\"-446.3\" font-family=\"Helvetica,sans-Serif\" font-size=\"14.00\" fill=\"#000000\">gini = 0.0</text>\n",
       "<text text-anchor=\"middle\" x=\"1463.5\" y=\"-431.3\" font-family=\"Helvetica,sans-Serif\" font-size=\"14.00\" fill=\"#000000\">samples = 1</text>\n",
       "<text text-anchor=\"middle\" x=\"1463.5\" y=\"-416.3\" font-family=\"Helvetica,sans-Serif\" font-size=\"14.00\" fill=\"#000000\">value = [1, 0]</text>\n",
       "</g>\n",
       "<!-- 34&#45;&gt;36 -->\n",
       "<g id=\"edge36\" class=\"edge\">\n",
       "<title>34&#45;&gt;36</title>\n",
       "<path fill=\"none\" stroke=\"#000000\" d=\"M1380.7748,-504.9465C1394.7139,-493.1606 1410.3112,-479.9726 1424.1732,-468.2519\"/>\n",
       "<polygon fill=\"#000000\" stroke=\"#000000\" points=\"1426.7324,-470.6715 1432.1088,-461.5422 1422.2127,-465.3262 1426.7324,-470.6715\"/>\n",
       "</g>\n",
       "</g>\n",
       "</svg>\n"
      ],
      "text/plain": [
       "<graphviz.files.Source at 0x1a268840f0>"
      ]
     },
     "execution_count": 31,
     "metadata": {},
     "output_type": "execute_result"
    }
   ],
   "source": [
    "# tree graph\n",
    "import graphviz \n",
    "#\n",
    "dtc_data = tree.export_graphviz(classifier_dt, out_file=None, filled=True, rounded=True,\n",
    "                                feature_names=data_column,\n",
    "                                special_characters=False) \n",
    "graph = graphviz.Source(dtc_data) \n",
    "graph\n",
    "\n",
    "# file export ...\n",
    "# graph.render(\"wisconsin diagnostic breast cancer\") "
   ]
  },
  {
   "cell_type": "code",
   "execution_count": 32,
   "metadata": {},
   "outputs": [
    {
     "name": "stdout",
     "output_type": "stream",
     "text": [
      "Fraction Correct [Accuracy]:  0.9239766081871345\n",
      "Samples incorrectly classified:  [  7  17  20  34  47  50  90  94 106 124 126 128 129]\n"
     ]
    }
   ],
   "source": [
    "print(\"Fraction Correct [Accuracy]: \", classifier_dt.score(scaled_test_X, test_y))\n",
    "print('Samples incorrectly classified: ', np.where(classifier_dt.predict(scaled_test_X) != test_y)[0])\n"
   ]
  },
  {
   "cell_type": "markdown",
   "metadata": {},
   "source": [
    "-------------------------------------------------------------\n",
    "## [Ensemble Methods](https://scikit-learn.org/stable/modules/ensemble.html) \n",
    "\n",
    "\n",
    "-------------------------------------------------------------\n",
    "#### [Random Forest Classifier](https://scikit-learn.org/stable/modules/generated/sklearn.ensemble.RandomForestClassifier.html)"
   ]
  },
  {
   "cell_type": "code",
   "execution_count": 33,
   "metadata": {},
   "outputs": [],
   "source": [
    "from sklearn.ensemble import RandomForestClassifier"
   ]
  },
  {
   "cell_type": "code",
   "execution_count": 34,
   "metadata": {},
   "outputs": [
    {
     "data": {
      "text/plain": [
       "RandomForestClassifier(bootstrap=True, class_weight=None, criterion='gini',\n",
       "            max_depth=None, max_features='auto', max_leaf_nodes=None,\n",
       "            min_impurity_decrease=0.0, min_impurity_split=None,\n",
       "            min_samples_leaf=1, min_samples_split=2,\n",
       "            min_weight_fraction_leaf=0.0, n_estimators=64, n_jobs=None,\n",
       "            oob_score=False, random_state=None, verbose=0,\n",
       "            warm_start=False)"
      ]
     },
     "execution_count": 34,
     "metadata": {},
     "output_type": "execute_result"
    }
   ],
   "source": [
    "# algorithm\n",
    "classifier_rf = RandomForestClassifier(n_estimators=64)\n",
    "# fit!\n",
    "classifier_rf.fit(scaled_train_X, train_y)"
   ]
  },
  {
   "cell_type": "code",
   "execution_count": 35,
   "metadata": {},
   "outputs": [
    {
     "name": "stdout",
     "output_type": "stream",
     "text": [
      " mean: 0.9496153846153847  std: 0.03743414116006732\n"
     ]
    }
   ],
   "source": [
    "score = cross_val_score(classifier_rf, scaled_train_X, train_y, cv=10)\n",
    "print(' mean:', score.mean(), ' std:', score.std())"
   ]
  },
  {
   "cell_type": "code",
   "execution_count": 36,
   "metadata": {},
   "outputs": [
    {
     "name": "stdout",
     "output_type": "stream",
     "text": [
      "Feature ranking:\n",
      "fractal dimension_m       0.1919 \n",
      "concave points_w          0.1252 \n",
      "perimeter_s               0.1136 \n",
      "concave points_s          0.1082 \n",
      "smoothness_s              0.0723 \n",
      "perimeter_m               0.0699 \n",
      "concavity_w               0.0586 \n",
      "radius_w                  0.0532 \n",
      "symmetry_w                0.0313 \n",
      "radius_m                  0.0247 \n",
      "texture_w                 0.0181 \n",
      "texture_m                 0.0170 \n",
      "concave points_m          0.0130 \n",
      "symmetry_m                0.0110 \n",
      "radius_s                  0.0088 \n",
      "area_s                    0.0076 \n",
      "concavity_s               0.0076 \n",
      "symmetry_s                0.0074 \n",
      "fractal dimension_s       0.0074 \n",
      "compactness_s             0.0070 \n",
      "perimeter_w               0.0063 \n",
      "smoothness_w              0.0060 \n",
      "texture_s                 0.0051 \n",
      "fractal dimension_w       0.0046 \n",
      "area_w                    0.0044 \n",
      "smoothness_m              0.0044 \n",
      "compactness_w             0.0041 \n",
      "concavity_m               0.0039 \n",
      "area_m                    0.0037 \n",
      "compactness_m             0.0037 \n"
     ]
    }
   ],
   "source": [
    "importances = classifier_rf.feature_importances_\n",
    "# importances_std = np.std([tr.feature_importances_ for tr in classifier_rfc.estimators_], axis=0)\n",
    "indices = np.argsort(importances)[::-1]\n",
    "\n",
    "# Print the feature ranking\n",
    "print(\"Feature ranking:\")\n",
    "\n",
    "# for i in range(len(data_column)):\n",
    "for idx in indices:\n",
    "    print(\"{:24s}  {:.4f} \".format(data_column[idx], importances[idx]))"
   ]
  },
  {
   "cell_type": "code",
   "execution_count": 37,
   "metadata": {},
   "outputs": [
    {
     "data": {
      "image/png": "[encoded data removed]",
      "text/plain": [
       "<Figure size 864x576 with 1 Axes>"
      ]
     },
     "metadata": {
      "needs_background": "light"
     },
     "output_type": "display_data"
    }
   ],
   "source": [
    "colors = [plt.cm.tab20(k%20) for k in range(len(data_column))]\n",
    "\n",
    "# cf.\n",
    "# colors = [] # or colors = list()\n",
    "# for k in range(len(data_column)):\n",
    "#     colors.append(plt.cm.tab20(k%20))\n",
    "\n",
    "\n",
    "fig, ax = plt.subplots()\n",
    "ax.set_title(\"Feature importances\")\n",
    "ax.barh(range(len(data_column)), importances[indices], color=colors, align=\"center\")\n",
    "ax.set_yticks(range(len(data_column)))\n",
    "ax.set_yticklabels(data_column[indices])\n",
    "ax.set_ylim([-1, len(data_column)])\n",
    "ax.invert_yaxis()"
   ]
  },
  {
   "cell_type": "code",
   "execution_count": null,
   "metadata": {},
   "outputs": [],
   "source": []
  }
 ],
 "metadata": {
  "kernelspec": {
   "display_name": "Python 3",
   "language": "python",
   "name": "python3"
  },
  "language_info": {
   "codemirror_mode": {
    "name": "ipython",
    "version": 3
   },
   "file_extension": ".py",
   "mimetype": "text/x-python",
   "name": "python",
   "nbconvert_exporter": "python",
   "pygments_lexer": "ipython3",
   "version": "3.6.8"
  }
 },
 "nbformat": 4,
 "nbformat_minor": 2
}
